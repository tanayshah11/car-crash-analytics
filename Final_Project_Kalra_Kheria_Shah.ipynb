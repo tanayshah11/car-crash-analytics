{
  "cells": [
    {
      "cell_type": "markdown",
      "metadata": {},
      "source": [
        "# **CRASH ANALYTICS FOR MONTGOMERY COUNTY**\n",
        "\n",
        "## Team: Tanay Shah, Ishaan Kalra, Aadesh Kheria\n",
        "\n",
        "### **Project Question🤨->**  How effectively can machine learning models predict hit-and-run incidents based on driver behavior and environmental factors, and what strategies can be implemented to improve their predictive accuracy?\n",
        "\n",
        "**Project Brief** \n",
        "\n",
        "The primary goal of this project is to conduct a comprehensive analysis of traffic crash data across Montgomery County from 2015 to 2023. \n",
        "\n",
        "By examining monthly trends over these years, we aim to provide the UMD community and the general public with insights into the most prevalent types of traffic incidents, as well as the locations and times they most frequently occur. \n",
        "\n",
        "Throughout this tutorial, we will explore potential correlations between the types of crashes and their specific locations, the frequency of these incidents at different hours, and how these patterns might vary with the seasons. Our objective is to uncover meaningful trends that can inform safety improvements and awareness initiatives within the community.\n",
        "\n",
        "**Required Tools**\n",
        "You will need to install the following librairies for this project:\n",
        "- pandas\n",
        "- numpy\n",
        "- matplotlib\n",
        "- seaborn\n",
        "- scikit-learn\n",
        "- scipy"
      ]
    },
    {
      "cell_type": "markdown",
      "metadata": {
        "id": "3SfOX140I4xP"
      },
      "source": [
        "Using the median to impute missing values in \"Mile Point\" for robustness against skewed data and outliers."
      ]
    },
    {
      "cell_type": "markdown",
      "metadata": {},
      "source": [
        "# **Dataset Collection & Preprocessing**\n",
        "\n",
        "**1. DATA COLLECTION:**\n",
        "\n",
        "This is the initial stage of our data lifecycle, focusing on the systematic collection of data from established datasets or various files.\n",
        "\n",
        "In this project, we sourced our data directly from the Montgomery County Government's open data portal. The specific dataset used, titled \"Crash Reporting Incidents Data,\" is available for direct download at [https://data.montgomerycountymd.gov/Public-Safety/Crash-Reporting-Incidents-Data/bhju-22kf/about_data](https://data.montgomerycountymd.gov/Public-Safety/Crash-Reporting-Incidents-Data/bhju-22kf/about_data). This comprehensive dataset contains detailed records of traffic incidents reported in Montgomery County, which serves as a foundational element for our analysis.\n",
        "\n",
        "For managing and manipulating the downloaded CSV file, we utilized the following tools:\n",
        "\n",
        "- `pandas`: for robust data manipulation and analysis.\n",
        "- `numpy`: for high-level mathematical functions and operations on arrays.\n",
        "- `datetime`: for handling date and time data.\n",
        "- `os.path`: for managing file paths.\n",
        "\n",
        "Our process involves downloading the CSV file directly from the provided link, which ensures that we have the complete and up-to-date dataset. We then load this data into a pandas DataFrame, enabling us to perform detailed analyses and manipulations as required by our project’s objectives.\n",
        "\n",
        "Below, we will detail the steps involved in processing the data to demonstrate how we prepare and analyze the data for our needs."
      ]
    },
    {
      "cell_type": "markdown",
      "metadata": {},
      "source": [
        "--------------------------------------------------------------------------------"
      ]
    },
    {
      "cell_type": "code",
      "execution_count": 2,
      "metadata": {
        "id": "XblzRx5LzKqc"
      },
      "outputs": [],
      "source": [
        "import datetime\n",
        "import matplotlib.pyplot as plt\n",
        "import numpy as np\n",
        "import pandas as pd\n",
        "from statsmodels.stats.proportion import proportions_ztest\n",
        "import seaborn as sns\n",
        "from scipy.stats import ttest_ind, chi2_contingency\n",
        "from sklearn.impute import KNNImputer\n",
        "from sklearn.preprocessing import LabelEncoder\n",
        "from sklearn.model_selection import train_test_split\n",
        "from sklearn.ensemble import RandomForestClassifier\n",
        "from sklearn.impute import SimpleImputer\n",
        "from sklearn.preprocessing import LabelEncoder, OneHotEncoder\n",
        "from sklearn.metrics import classification_report, accuracy_score"
      ]
    },
    {
      "cell_type": "code",
      "execution_count": 3,
      "metadata": {
        "id": "sGcF6CvGzjHW"
      },
      "outputs": [
        {
          "data": {
            "text/html": [
              "<div>\n",
              "<style scoped>\n",
              "    .dataframe tbody tr th:only-of-type {\n",
              "        vertical-align: middle;\n",
              "    }\n",
              "\n",
              "    .dataframe tbody tr th {\n",
              "        vertical-align: top;\n",
              "    }\n",
              "\n",
              "    .dataframe thead th {\n",
              "        text-align: right;\n",
              "    }\n",
              "</style>\n",
              "<table border=\"1\" class=\"dataframe\">\n",
              "  <thead>\n",
              "    <tr style=\"text-align: right;\">\n",
              "      <th></th>\n",
              "      <th>Report Number</th>\n",
              "      <th>Local Case Number</th>\n",
              "      <th>Agency Name</th>\n",
              "      <th>ACRS Report Type</th>\n",
              "      <th>Crash Date/Time</th>\n",
              "      <th>Hit/Run</th>\n",
              "      <th>Route Type</th>\n",
              "      <th>Mile Point</th>\n",
              "      <th>Mile Point Direction</th>\n",
              "      <th>Lane Direction</th>\n",
              "      <th>...</th>\n",
              "      <th>Fixed Oject Struck</th>\n",
              "      <th>Junction</th>\n",
              "      <th>Intersection Type</th>\n",
              "      <th>Intersection Area</th>\n",
              "      <th>Road Alignment</th>\n",
              "      <th>Road Condition</th>\n",
              "      <th>Road Division</th>\n",
              "      <th>Latitude</th>\n",
              "      <th>Longitude</th>\n",
              "      <th>Location</th>\n",
              "    </tr>\n",
              "  </thead>\n",
              "  <tbody>\n",
              "    <tr>\n",
              "      <th>0</th>\n",
              "      <td>MCP2686006F</td>\n",
              "      <td>230031339</td>\n",
              "      <td>Montgomery County Police</td>\n",
              "      <td>Property Damage Crash</td>\n",
              "      <td>06/30/2023 10:55:00 PM</td>\n",
              "      <td>No</td>\n",
              "      <td>NaN</td>\n",
              "      <td>NaN</td>\n",
              "      <td>NaN</td>\n",
              "      <td>NaN</td>\n",
              "      <td>...</td>\n",
              "      <td>OTHER</td>\n",
              "      <td>NaN</td>\n",
              "      <td>NaN</td>\n",
              "      <td>NaN</td>\n",
              "      <td>NaN</td>\n",
              "      <td>NaN</td>\n",
              "      <td>NaN</td>\n",
              "      <td>39.244280</td>\n",
              "      <td>-77.335827</td>\n",
              "      <td>(39.24428009, -77.33582666)</td>\n",
              "    </tr>\n",
              "    <tr>\n",
              "      <th>1</th>\n",
              "      <td>MCP3230004G</td>\n",
              "      <td>230031335</td>\n",
              "      <td>Montgomery County Police</td>\n",
              "      <td>Property Damage Crash</td>\n",
              "      <td>06/30/2023 08:00:00 PM</td>\n",
              "      <td>No</td>\n",
              "      <td>County</td>\n",
              "      <td>1.42</td>\n",
              "      <td>West</td>\n",
              "      <td>North</td>\n",
              "      <td>...</td>\n",
              "      <td>NaN</td>\n",
              "      <td>INTERSECTION</td>\n",
              "      <td>FOUR-WAY INTERSECTION</td>\n",
              "      <td>NaN</td>\n",
              "      <td>STRAIGHT</td>\n",
              "      <td>NO DEFECTS</td>\n",
              "      <td>TWO-WAY, DIVIDED, UNPROTECTED PAINTED MIN 4 FEET</td>\n",
              "      <td>39.092024</td>\n",
              "      <td>-77.070570</td>\n",
              "      <td>(39.09202433, -77.0705695)</td>\n",
              "    </tr>\n",
              "    <tr>\n",
              "      <th>2</th>\n",
              "      <td>MCP12600013</td>\n",
              "      <td>230031067</td>\n",
              "      <td>Montgomery County Police</td>\n",
              "      <td>Injury Crash</td>\n",
              "      <td>06/29/2023 11:53:00 AM</td>\n",
              "      <td>No</td>\n",
              "      <td>Maryland (State)</td>\n",
              "      <td>11.26</td>\n",
              "      <td>North</td>\n",
              "      <td>North</td>\n",
              "      <td>...</td>\n",
              "      <td>CURB</td>\n",
              "      <td>NON INTERSECTION</td>\n",
              "      <td>NaN</td>\n",
              "      <td>INTERSECTION</td>\n",
              "      <td>STRAIGHT</td>\n",
              "      <td>NO DEFECTS</td>\n",
              "      <td>TWO-WAY, DIVIDED, UNPROTECTED PAINTED MIN 4 FEET</td>\n",
              "      <td>39.277424</td>\n",
              "      <td>-77.324644</td>\n",
              "      <td>(39.27742352, -77.32464379)</td>\n",
              "    </tr>\n",
              "    <tr>\n",
              "      <th>3</th>\n",
              "      <td>DD55750030</td>\n",
              "      <td>230031365</td>\n",
              "      <td>Rockville Police Departme</td>\n",
              "      <td>Property Damage Crash</td>\n",
              "      <td>07/01/2023 01:48:00 AM</td>\n",
              "      <td>Yes</td>\n",
              "      <td>Municipality</td>\n",
              "      <td>0.07</td>\n",
              "      <td>North</td>\n",
              "      <td>North</td>\n",
              "      <td>...</td>\n",
              "      <td>LIGHT SUPPORT POLE</td>\n",
              "      <td>OTHER</td>\n",
              "      <td>FOUR-WAY INTERSECTION</td>\n",
              "      <td>OTHER</td>\n",
              "      <td>STRAIGHT</td>\n",
              "      <td>NO DEFECTS</td>\n",
              "      <td>TWO-WAY, NOT DIVIDED</td>\n",
              "      <td>39.074974</td>\n",
              "      <td>-77.113130</td>\n",
              "      <td>(39.07497432, -77.1131297)</td>\n",
              "    </tr>\n",
              "    <tr>\n",
              "      <th>4</th>\n",
              "      <td>MCP3010008B</td>\n",
              "      <td>230034141</td>\n",
              "      <td>Montgomery County Police</td>\n",
              "      <td>Property Damage Crash</td>\n",
              "      <td>07/01/2023 12:52:00 PM</td>\n",
              "      <td>No</td>\n",
              "      <td>Other Public Roadway</td>\n",
              "      <td>0.00</td>\n",
              "      <td>West</td>\n",
              "      <td>West</td>\n",
              "      <td>...</td>\n",
              "      <td>NaN</td>\n",
              "      <td>NaN</td>\n",
              "      <td>NaN</td>\n",
              "      <td>NaN</td>\n",
              "      <td>STRAIGHT</td>\n",
              "      <td>NO DEFECTS</td>\n",
              "      <td>TWO-WAY, NOT DIVIDED</td>\n",
              "      <td>39.026492</td>\n",
              "      <td>-77.148288</td>\n",
              "      <td>(39.02649167, -77.14828833)</td>\n",
              "    </tr>\n",
              "  </tbody>\n",
              "</table>\n",
              "<p>5 rows × 44 columns</p>\n",
              "</div>"
            ],
            "text/plain": [
              "  Report Number Local Case Number                Agency Name  \\\n",
              "0   MCP2686006F         230031339   Montgomery County Police   \n",
              "1   MCP3230004G         230031335   Montgomery County Police   \n",
              "2   MCP12600013         230031067   Montgomery County Police   \n",
              "3    DD55750030         230031365  Rockville Police Departme   \n",
              "4   MCP3010008B         230034141   Montgomery County Police   \n",
              "\n",
              "        ACRS Report Type         Crash Date/Time Hit/Run  \\\n",
              "0  Property Damage Crash  06/30/2023 10:55:00 PM      No   \n",
              "1  Property Damage Crash  06/30/2023 08:00:00 PM      No   \n",
              "2           Injury Crash  06/29/2023 11:53:00 AM      No   \n",
              "3  Property Damage Crash  07/01/2023 01:48:00 AM     Yes   \n",
              "4  Property Damage Crash  07/01/2023 12:52:00 PM      No   \n",
              "\n",
              "             Route Type  Mile Point Mile Point Direction Lane Direction  ...  \\\n",
              "0                   NaN         NaN                  NaN            NaN  ...   \n",
              "1                County        1.42                 West          North  ...   \n",
              "2      Maryland (State)       11.26                North          North  ...   \n",
              "3          Municipality        0.07                North          North  ...   \n",
              "4  Other Public Roadway        0.00                 West           West  ...   \n",
              "\n",
              "   Fixed Oject Struck          Junction      Intersection Type  \\\n",
              "0               OTHER               NaN                    NaN   \n",
              "1                 NaN      INTERSECTION  FOUR-WAY INTERSECTION   \n",
              "2                CURB  NON INTERSECTION                    NaN   \n",
              "3  LIGHT SUPPORT POLE             OTHER  FOUR-WAY INTERSECTION   \n",
              "4                 NaN               NaN                    NaN   \n",
              "\n",
              "  Intersection Area  Road Alignment Road Condition  \\\n",
              "0               NaN             NaN            NaN   \n",
              "1               NaN        STRAIGHT     NO DEFECTS   \n",
              "2      INTERSECTION        STRAIGHT     NO DEFECTS   \n",
              "3             OTHER        STRAIGHT     NO DEFECTS   \n",
              "4               NaN        STRAIGHT     NO DEFECTS   \n",
              "\n",
              "                                      Road Division   Latitude  Longitude  \\\n",
              "0                                               NaN  39.244280 -77.335827   \n",
              "1  TWO-WAY, DIVIDED, UNPROTECTED PAINTED MIN 4 FEET  39.092024 -77.070570   \n",
              "2  TWO-WAY, DIVIDED, UNPROTECTED PAINTED MIN 4 FEET  39.277424 -77.324644   \n",
              "3                              TWO-WAY, NOT DIVIDED  39.074974 -77.113130   \n",
              "4                              TWO-WAY, NOT DIVIDED  39.026492 -77.148288   \n",
              "\n",
              "                      Location  \n",
              "0  (39.24428009, -77.33582666)  \n",
              "1   (39.09202433, -77.0705695)  \n",
              "2  (39.27742352, -77.32464379)  \n",
              "3   (39.07497432, -77.1131297)  \n",
              "4  (39.02649167, -77.14828833)  \n",
              "\n",
              "[5 rows x 44 columns]"
            ]
          },
          "execution_count": 3,
          "metadata": {},
          "output_type": "execute_result"
        }
      ],
      "source": [
        "crash_df = pd.read_csv('crash.csv')\n",
        "crash_df.head()"
      ]
    },
    {
      "cell_type": "code",
      "execution_count": 4,
      "metadata": {
        "id": "TYqeDD750aXa"
      },
      "outputs": [
        {
          "name": "stdout",
          "output_type": "stream",
          "text": [
            "Rows: 97458\n",
            "Columns: 44\n"
          ]
        }
      ],
      "source": [
        "rows, cols = crash_df.shape\n",
        "print(\"Rows: \" + str(rows) + \"\\n\" + \"Columns: \" + str(cols))"
      ]
    },
    {
      "cell_type": "code",
      "execution_count": 5,
      "metadata": {
        "id": "9Qske67c08Hd"
      },
      "outputs": [
        {
          "name": "stdout",
          "output_type": "stream",
          "text": [
            "Report Number, Local Case Number, Agency Name, ACRS Report Type, Crash Date/Time, Hit/Run, Route Type, Mile Point, Mile Point Direction, Lane Direction, Lane Number, Lane Type, Number of Lanes, Direction, Distance, Distance Unit, Road Grade, NonTraffic, Road Name, Cross-Street Type, Cross-Street Name, Off-Road Description, Municipality, Related Non-Motorist, At Fault, Collision Type, Weather, Surface Condition, Light, Traffic Control, Driver Substance Abuse, Non-Motorist Substance Abuse, First Harmful Event, Second Harmful Event, Fixed Oject Struck, Junction, Intersection Type, Intersection Area, Road Alignment, Road Condition, Road Division, Latitude, Longitude, Location, "
          ]
        }
      ],
      "source": [
        "for col_names in crash_df.columns:\n",
        "  print(col_names, end=\", \")"
      ]
    },
    {
      "cell_type": "code",
      "execution_count": 6,
      "metadata": {},
      "outputs": [
        {
          "name": "stdout",
          "output_type": "stream",
          "text": [
            "Earliest crash date: 01/01/2015 01:10:00 AM\n",
            "Latest crash date: 12/31/2023 12:19:00 AM\n"
          ]
        }
      ],
      "source": [
        "# Find the earliest date\n",
        "earliest_date = crash_df['Crash Date/Time'].min()\n",
        "\n",
        "# Find the latest date\n",
        "latest_date = crash_df['Crash Date/Time'].max()\n",
        "\n",
        "# Print the results\n",
        "print(\"Earliest crash date:\", earliest_date)\n",
        "print(\"Latest crash date:\", latest_date)"
      ]
    },
    {
      "cell_type": "markdown",
      "metadata": {},
      "source": [
        "**2. DATA PREPROCESSING:**\n",
        "\n",
        "This phase is crucial for preparing the raw data into a format suitable for analysis. Given the extensive nature of the dataset and our specific research objectives, we adopted a selective approach to data preprocessing to ensure efficiency and relevance in our analysis.\n",
        "\n",
        "### Column Selection:\n",
        "Initially, we identified and retained only the most pertinent columns from the complete dataset. This was done to reduce computational load and focus on the data most relevant to our research questions. The selected columns include identifiers like 'Report Number' and 'Local Case Number', details about the crash such as 'Crash Date/Time', 'Collision Type', and environmental conditions like 'Weather' and 'Light'. \n",
        "\n",
        "### Data Cleaning:\n",
        "The following steps were taken to clean and prepare the data:\n",
        "\n",
        "- **Conversion to Suitable Data Types**: We converted the 'Crash Date/Time' column into a datetime format, allowing us to extract and analyze the date and time separately.\n",
        "- **Handling Missing Values**: We filled missing values in categorical columns like 'Hit/Run' and 'Route Type' with the most frequent values or categorized them as 'Unknown'. Numeric fields such as 'Mile Point' were filled using median values to maintain data integrity.\n",
        "- **Imputation Techniques**: For more complex fields like 'Traffic Control' and 'Light', where data might depend on other factors such as 'Road Name' or the time of the crash, we used group-specific modes and conditional imputation. This approach helps maintain logical consistency across related data fields.\n",
        "- **Normalization and Error Correction**: We also addressed duplicates and corrected erroneous entries to ensure the uniqueness and accuracy of our data records.\n",
        "\n",
        "### Enhancing Data Quality:\n",
        "To further enhance the quality of our dataset, we employed several strategies:\n",
        "- **Mode Imputation for Categorical Data**: We imputed missing values in 'Weather' and 'Collision Type' using the most common values conditioned on related attributes, ensuring that our data reflects realistic and probable scenarios.\n",
        "- **Custom Functions for Data Imputation**: For attributes like 'Traffic Control' and 'Light', custom functions were developed to impute values based on the derived rules from the data itself. This method provided a nuanced approach to handling missing data, particularly in cases where simple imputation might not suffice.\n",
        "\n",
        "### Final Dataset Preparation:\n",
        "After these steps, the dataset was transformed into a cleaner, more manageable format, making it ready for the subsequent stages of data analysis and visualization. The focus on careful preprocessing ensures that our findings are based on accurate and representative data, thereby enhancing the reliability of our conclusions."
      ]
    },
    {
      "cell_type": "code",
      "execution_count": 7,
      "metadata": {
        "id": "js-lhcdH2lQ6"
      },
      "outputs": [
        {
          "data": {
            "text/html": [
              "<div>\n",
              "<style scoped>\n",
              "    .dataframe tbody tr th:only-of-type {\n",
              "        vertical-align: middle;\n",
              "    }\n",
              "\n",
              "    .dataframe tbody tr th {\n",
              "        vertical-align: top;\n",
              "    }\n",
              "\n",
              "    .dataframe thead th {\n",
              "        text-align: right;\n",
              "    }\n",
              "</style>\n",
              "<table border=\"1\" class=\"dataframe\">\n",
              "  <thead>\n",
              "    <tr style=\"text-align: right;\">\n",
              "      <th></th>\n",
              "      <th>Report Number</th>\n",
              "      <th>Local Case Number</th>\n",
              "      <th>Agency Name</th>\n",
              "      <th>ACRS Report Type</th>\n",
              "      <th>Crash Date/Time</th>\n",
              "      <th>Hit/Run</th>\n",
              "      <th>Route Type</th>\n",
              "      <th>Mile Point</th>\n",
              "      <th>Lane Direction</th>\n",
              "      <th>Lane Number</th>\n",
              "      <th>...</th>\n",
              "      <th>Cross-Street Name</th>\n",
              "      <th>At Fault</th>\n",
              "      <th>Collision Type</th>\n",
              "      <th>Weather</th>\n",
              "      <th>Surface Condition</th>\n",
              "      <th>Light</th>\n",
              "      <th>Traffic Control</th>\n",
              "      <th>Latitude</th>\n",
              "      <th>Longitude</th>\n",
              "      <th>At Fault</th>\n",
              "    </tr>\n",
              "  </thead>\n",
              "  <tbody>\n",
              "    <tr>\n",
              "      <th>0</th>\n",
              "      <td>MCP2686006F</td>\n",
              "      <td>230031339</td>\n",
              "      <td>Montgomery County Police</td>\n",
              "      <td>Property Damage Crash</td>\n",
              "      <td>06/30/2023 10:55:00 PM</td>\n",
              "      <td>No</td>\n",
              "      <td>NaN</td>\n",
              "      <td>NaN</td>\n",
              "      <td>NaN</td>\n",
              "      <td>0</td>\n",
              "      <td>...</td>\n",
              "      <td>NaN</td>\n",
              "      <td>DRIVER</td>\n",
              "      <td>SINGLE VEHICLE</td>\n",
              "      <td>CLEAR</td>\n",
              "      <td>NaN</td>\n",
              "      <td>DARK NO LIGHTS</td>\n",
              "      <td>NO CONTROLS</td>\n",
              "      <td>39.244280</td>\n",
              "      <td>-77.335827</td>\n",
              "      <td>DRIVER</td>\n",
              "    </tr>\n",
              "    <tr>\n",
              "      <th>1</th>\n",
              "      <td>MCP3230004G</td>\n",
              "      <td>230031335</td>\n",
              "      <td>Montgomery County Police</td>\n",
              "      <td>Property Damage Crash</td>\n",
              "      <td>06/30/2023 08:00:00 PM</td>\n",
              "      <td>No</td>\n",
              "      <td>County</td>\n",
              "      <td>1.42</td>\n",
              "      <td>North</td>\n",
              "      <td>1</td>\n",
              "      <td>...</td>\n",
              "      <td>CONNECTICUT AVE</td>\n",
              "      <td>DRIVER</td>\n",
              "      <td>STRAIGHT MOVEMENT ANGLE</td>\n",
              "      <td>CLEAR</td>\n",
              "      <td>DRY</td>\n",
              "      <td>DAYLIGHT</td>\n",
              "      <td>TRAFFIC SIGNAL</td>\n",
              "      <td>39.092024</td>\n",
              "      <td>-77.070570</td>\n",
              "      <td>DRIVER</td>\n",
              "    </tr>\n",
              "    <tr>\n",
              "      <th>2</th>\n",
              "      <td>MCP12600013</td>\n",
              "      <td>230031067</td>\n",
              "      <td>Montgomery County Police</td>\n",
              "      <td>Injury Crash</td>\n",
              "      <td>06/29/2023 11:53:00 AM</td>\n",
              "      <td>No</td>\n",
              "      <td>Maryland (State)</td>\n",
              "      <td>11.26</td>\n",
              "      <td>North</td>\n",
              "      <td>1</td>\n",
              "      <td>...</td>\n",
              "      <td>RAMP 6 FR MD 109 EB TO IS 270 SB</td>\n",
              "      <td>DRIVER</td>\n",
              "      <td>SINGLE VEHICLE</td>\n",
              "      <td>CLEAR</td>\n",
              "      <td>DRY</td>\n",
              "      <td>DAYLIGHT</td>\n",
              "      <td>STOP SIGN</td>\n",
              "      <td>39.277424</td>\n",
              "      <td>-77.324644</td>\n",
              "      <td>DRIVER</td>\n",
              "    </tr>\n",
              "    <tr>\n",
              "      <th>3</th>\n",
              "      <td>DD55750030</td>\n",
              "      <td>230031365</td>\n",
              "      <td>Rockville Police Departme</td>\n",
              "      <td>Property Damage Crash</td>\n",
              "      <td>07/01/2023 01:48:00 AM</td>\n",
              "      <td>Yes</td>\n",
              "      <td>Municipality</td>\n",
              "      <td>0.07</td>\n",
              "      <td>North</td>\n",
              "      <td>1</td>\n",
              "      <td>...</td>\n",
              "      <td>MCAULIFFE DR</td>\n",
              "      <td>UNKNOWN</td>\n",
              "      <td>OTHER</td>\n",
              "      <td>CLOUDY</td>\n",
              "      <td>DRY</td>\n",
              "      <td>DARK LIGHTS ON</td>\n",
              "      <td>NaN</td>\n",
              "      <td>39.074974</td>\n",
              "      <td>-77.113130</td>\n",
              "      <td>UNKNOWN</td>\n",
              "    </tr>\n",
              "    <tr>\n",
              "      <th>4</th>\n",
              "      <td>MCP3010008B</td>\n",
              "      <td>230034141</td>\n",
              "      <td>Montgomery County Police</td>\n",
              "      <td>Property Damage Crash</td>\n",
              "      <td>07/01/2023 12:52:00 PM</td>\n",
              "      <td>No</td>\n",
              "      <td>Other Public Roadway</td>\n",
              "      <td>0.00</td>\n",
              "      <td>West</td>\n",
              "      <td>1</td>\n",
              "      <td>...</td>\n",
              "      <td>WESTLAKE DR</td>\n",
              "      <td>DRIVER</td>\n",
              "      <td>SAME DIR REAR END</td>\n",
              "      <td>CLEAR</td>\n",
              "      <td>DRY</td>\n",
              "      <td>DAYLIGHT</td>\n",
              "      <td>NaN</td>\n",
              "      <td>39.026492</td>\n",
              "      <td>-77.148288</td>\n",
              "      <td>DRIVER</td>\n",
              "    </tr>\n",
              "  </tbody>\n",
              "</table>\n",
              "<p>5 rows × 23 columns</p>\n",
              "</div>"
            ],
            "text/plain": [
              "  Report Number Local Case Number                Agency Name  \\\n",
              "0   MCP2686006F         230031339   Montgomery County Police   \n",
              "1   MCP3230004G         230031335   Montgomery County Police   \n",
              "2   MCP12600013         230031067   Montgomery County Police   \n",
              "3    DD55750030         230031365  Rockville Police Departme   \n",
              "4   MCP3010008B         230034141   Montgomery County Police   \n",
              "\n",
              "        ACRS Report Type         Crash Date/Time Hit/Run  \\\n",
              "0  Property Damage Crash  06/30/2023 10:55:00 PM      No   \n",
              "1  Property Damage Crash  06/30/2023 08:00:00 PM      No   \n",
              "2           Injury Crash  06/29/2023 11:53:00 AM      No   \n",
              "3  Property Damage Crash  07/01/2023 01:48:00 AM     Yes   \n",
              "4  Property Damage Crash  07/01/2023 12:52:00 PM      No   \n",
              "\n",
              "             Route Type  Mile Point Lane Direction  Lane Number  ...  \\\n",
              "0                   NaN         NaN            NaN            0  ...   \n",
              "1                County        1.42          North            1  ...   \n",
              "2      Maryland (State)       11.26          North            1  ...   \n",
              "3          Municipality        0.07          North            1  ...   \n",
              "4  Other Public Roadway        0.00           West            1  ...   \n",
              "\n",
              "                  Cross-Street Name At Fault           Collision Type Weather  \\\n",
              "0                               NaN   DRIVER           SINGLE VEHICLE   CLEAR   \n",
              "1                   CONNECTICUT AVE   DRIVER  STRAIGHT MOVEMENT ANGLE   CLEAR   \n",
              "2  RAMP 6 FR MD 109 EB TO IS 270 SB   DRIVER           SINGLE VEHICLE   CLEAR   \n",
              "3                      MCAULIFFE DR  UNKNOWN                    OTHER  CLOUDY   \n",
              "4                       WESTLAKE DR   DRIVER        SAME DIR REAR END   CLEAR   \n",
              "\n",
              "  Surface Condition           Light Traffic Control   Latitude  Longitude  \\\n",
              "0               NaN  DARK NO LIGHTS     NO CONTROLS  39.244280 -77.335827   \n",
              "1               DRY        DAYLIGHT  TRAFFIC SIGNAL  39.092024 -77.070570   \n",
              "2               DRY        DAYLIGHT       STOP SIGN  39.277424 -77.324644   \n",
              "3               DRY  DARK LIGHTS ON             NaN  39.074974 -77.113130   \n",
              "4               DRY        DAYLIGHT             NaN  39.026492 -77.148288   \n",
              "\n",
              "  At Fault  \n",
              "0   DRIVER  \n",
              "1   DRIVER  \n",
              "2   DRIVER  \n",
              "3  UNKNOWN  \n",
              "4   DRIVER  \n",
              "\n",
              "[5 rows x 23 columns]"
            ]
          },
          "execution_count": 7,
          "metadata": {},
          "output_type": "execute_result"
        }
      ],
      "source": [
        "columns_to_keep = [\n",
        "    'Report Number', 'Local Case Number', 'Agency Name', 'ACRS Report Type',\n",
        "    'Crash Date/Time', 'Hit/Run', 'Route Type', 'Mile Point', 'Lane Direction',\n",
        "    'Lane Number', 'Number of Lanes', 'Direction', 'Road Name', 'Cross-Street Name',\n",
        "    'At Fault', 'Collision Type', 'Weather', 'Surface Condition', 'Light', 'Traffic Control', 'Latitude', 'Longitude', 'At Fault'\n",
        "]\n",
        "\n",
        "filtered_df = crash_df[columns_to_keep].copy()\n",
        "filtered_df.head()"
      ]
    },
    {
      "cell_type": "code",
      "execution_count": 8,
      "metadata": {
        "id": "rNJKETgW3fiT"
      },
      "outputs": [
        {
          "name": "stdout",
          "output_type": "stream",
          "text": [
            "Report Number        97458\n",
            "Local Case Number    97458\n",
            "Agency Name          97458\n",
            "ACRS Report Type     97458\n",
            "Crash Date/Time      97458\n",
            "Hit/Run              97456\n",
            "Route Type           84463\n",
            "Mile Point           85120\n",
            "Lane Direction       85131\n",
            "Lane Number          97458\n",
            "Number of Lanes      97458\n",
            "Direction            85120\n",
            "Road Name            85130\n",
            "Cross-Street Name    85120\n",
            "At Fault             97458\n",
            "Collision Type       96954\n",
            "Weather              89511\n",
            "Surface Condition    82808\n",
            "Light                96643\n",
            "Traffic Control      81022\n",
            "Latitude             97458\n",
            "Longitude            97458\n",
            "At Fault             97458\n",
            "dtype: int64\n"
          ]
        }
      ],
      "source": [
        "info = filtered_df.count()\n",
        "print(info)"
      ]
    },
    {
      "cell_type": "code",
      "execution_count": 9,
      "metadata": {
        "id": "bgbieYOm68qy"
      },
      "outputs": [
        {
          "data": {
            "text/plain": [
              "Report Number            0\n",
              "Local Case Number        0\n",
              "Agency Name              0\n",
              "ACRS Report Type         0\n",
              "Crash Date/Time          0\n",
              "Hit/Run                  2\n",
              "Route Type           12995\n",
              "Mile Point           12338\n",
              "Lane Direction       12327\n",
              "Lane Number              0\n",
              "Number of Lanes          0\n",
              "Direction            12338\n",
              "Road Name            12328\n",
              "Cross-Street Name    12338\n",
              "At Fault                 0\n",
              "Collision Type         504\n",
              "Weather               7947\n",
              "Surface Condition    14650\n",
              "Light                  815\n",
              "Traffic Control      16436\n",
              "Latitude                 0\n",
              "Longitude                0\n",
              "At Fault                 0\n",
              "dtype: int64"
            ]
          },
          "execution_count": 9,
          "metadata": {},
          "output_type": "execute_result"
        }
      ],
      "source": [
        "null_counts_corrected = filtered_df.isnull().sum()\n",
        "null_counts_corrected"
      ]
    },
    {
      "cell_type": "code",
      "execution_count": 10,
      "metadata": {
        "id": "uvysDGif3urr"
      },
      "outputs": [
        {
          "name": "stdout",
          "output_type": "stream",
          "text": [
            "0\n"
          ]
        }
      ],
      "source": [
        "print(filtered_df.duplicated().sum())"
      ]
    },
    {
      "cell_type": "code",
      "execution_count": 11,
      "metadata": {
        "id": "Rl4Tji9_37ct"
      },
      "outputs": [
        {
          "name": "stderr",
          "output_type": "stream",
          "text": [
            "/var/folders/r_/_xkpp8f13393c7m2zcpc04700000gn/T/ipykernel_99091/189302934.py:1: UserWarning: Could not infer format, so each element will be parsed individually, falling back to `dateutil`. To ensure parsing is consistent and as-expected, please specify a format.\n",
            "  filtered_df[\"Crash Date/Time\"] = pd.to_datetime(filtered_df[\"Crash Date/Time\"])\n"
          ]
        },
        {
          "data": {
            "text/html": [
              "<div>\n",
              "<style scoped>\n",
              "    .dataframe tbody tr th:only-of-type {\n",
              "        vertical-align: middle;\n",
              "    }\n",
              "\n",
              "    .dataframe tbody tr th {\n",
              "        vertical-align: top;\n",
              "    }\n",
              "\n",
              "    .dataframe thead th {\n",
              "        text-align: right;\n",
              "    }\n",
              "</style>\n",
              "<table border=\"1\" class=\"dataframe\">\n",
              "  <thead>\n",
              "    <tr style=\"text-align: right;\">\n",
              "      <th></th>\n",
              "      <th>Report Number</th>\n",
              "      <th>Local Case Number</th>\n",
              "      <th>Agency Name</th>\n",
              "      <th>ACRS Report Type</th>\n",
              "      <th>Crash Date/Time</th>\n",
              "      <th>Hit/Run</th>\n",
              "      <th>Route Type</th>\n",
              "      <th>Mile Point</th>\n",
              "      <th>Lane Direction</th>\n",
              "      <th>Lane Number</th>\n",
              "      <th>...</th>\n",
              "      <th>Collision Type</th>\n",
              "      <th>Weather</th>\n",
              "      <th>Surface Condition</th>\n",
              "      <th>Light</th>\n",
              "      <th>Traffic Control</th>\n",
              "      <th>Latitude</th>\n",
              "      <th>Longitude</th>\n",
              "      <th>At Fault</th>\n",
              "      <th>Crash Date</th>\n",
              "      <th>Crash Time</th>\n",
              "    </tr>\n",
              "  </thead>\n",
              "  <tbody>\n",
              "    <tr>\n",
              "      <th>0</th>\n",
              "      <td>MCP2686006F</td>\n",
              "      <td>230031339</td>\n",
              "      <td>Montgomery County Police</td>\n",
              "      <td>Property Damage Crash</td>\n",
              "      <td>2023-06-30 22:55:00</td>\n",
              "      <td>No</td>\n",
              "      <td>NaN</td>\n",
              "      <td>NaN</td>\n",
              "      <td>NaN</td>\n",
              "      <td>0</td>\n",
              "      <td>...</td>\n",
              "      <td>SINGLE VEHICLE</td>\n",
              "      <td>CLEAR</td>\n",
              "      <td>NaN</td>\n",
              "      <td>DARK NO LIGHTS</td>\n",
              "      <td>NO CONTROLS</td>\n",
              "      <td>39.244280</td>\n",
              "      <td>-77.335827</td>\n",
              "      <td>DRIVER</td>\n",
              "      <td>2023-06-30</td>\n",
              "      <td>22:55:00</td>\n",
              "    </tr>\n",
              "    <tr>\n",
              "      <th>1</th>\n",
              "      <td>MCP3230004G</td>\n",
              "      <td>230031335</td>\n",
              "      <td>Montgomery County Police</td>\n",
              "      <td>Property Damage Crash</td>\n",
              "      <td>2023-06-30 20:00:00</td>\n",
              "      <td>No</td>\n",
              "      <td>County</td>\n",
              "      <td>1.42</td>\n",
              "      <td>North</td>\n",
              "      <td>1</td>\n",
              "      <td>...</td>\n",
              "      <td>STRAIGHT MOVEMENT ANGLE</td>\n",
              "      <td>CLEAR</td>\n",
              "      <td>DRY</td>\n",
              "      <td>DAYLIGHT</td>\n",
              "      <td>TRAFFIC SIGNAL</td>\n",
              "      <td>39.092024</td>\n",
              "      <td>-77.070570</td>\n",
              "      <td>DRIVER</td>\n",
              "      <td>2023-06-30</td>\n",
              "      <td>20:00:00</td>\n",
              "    </tr>\n",
              "    <tr>\n",
              "      <th>2</th>\n",
              "      <td>MCP12600013</td>\n",
              "      <td>230031067</td>\n",
              "      <td>Montgomery County Police</td>\n",
              "      <td>Injury Crash</td>\n",
              "      <td>2023-06-29 11:53:00</td>\n",
              "      <td>No</td>\n",
              "      <td>Maryland (State)</td>\n",
              "      <td>11.26</td>\n",
              "      <td>North</td>\n",
              "      <td>1</td>\n",
              "      <td>...</td>\n",
              "      <td>SINGLE VEHICLE</td>\n",
              "      <td>CLEAR</td>\n",
              "      <td>DRY</td>\n",
              "      <td>DAYLIGHT</td>\n",
              "      <td>STOP SIGN</td>\n",
              "      <td>39.277424</td>\n",
              "      <td>-77.324644</td>\n",
              "      <td>DRIVER</td>\n",
              "      <td>2023-06-29</td>\n",
              "      <td>11:53:00</td>\n",
              "    </tr>\n",
              "    <tr>\n",
              "      <th>3</th>\n",
              "      <td>DD55750030</td>\n",
              "      <td>230031365</td>\n",
              "      <td>Rockville Police Departme</td>\n",
              "      <td>Property Damage Crash</td>\n",
              "      <td>2023-07-01 01:48:00</td>\n",
              "      <td>Yes</td>\n",
              "      <td>Municipality</td>\n",
              "      <td>0.07</td>\n",
              "      <td>North</td>\n",
              "      <td>1</td>\n",
              "      <td>...</td>\n",
              "      <td>OTHER</td>\n",
              "      <td>CLOUDY</td>\n",
              "      <td>DRY</td>\n",
              "      <td>DARK LIGHTS ON</td>\n",
              "      <td>NaN</td>\n",
              "      <td>39.074974</td>\n",
              "      <td>-77.113130</td>\n",
              "      <td>UNKNOWN</td>\n",
              "      <td>2023-07-01</td>\n",
              "      <td>01:48:00</td>\n",
              "    </tr>\n",
              "    <tr>\n",
              "      <th>4</th>\n",
              "      <td>MCP3010008B</td>\n",
              "      <td>230034141</td>\n",
              "      <td>Montgomery County Police</td>\n",
              "      <td>Property Damage Crash</td>\n",
              "      <td>2023-07-01 12:52:00</td>\n",
              "      <td>No</td>\n",
              "      <td>Other Public Roadway</td>\n",
              "      <td>0.00</td>\n",
              "      <td>West</td>\n",
              "      <td>1</td>\n",
              "      <td>...</td>\n",
              "      <td>SAME DIR REAR END</td>\n",
              "      <td>CLEAR</td>\n",
              "      <td>DRY</td>\n",
              "      <td>DAYLIGHT</td>\n",
              "      <td>NaN</td>\n",
              "      <td>39.026492</td>\n",
              "      <td>-77.148288</td>\n",
              "      <td>DRIVER</td>\n",
              "      <td>2023-07-01</td>\n",
              "      <td>12:52:00</td>\n",
              "    </tr>\n",
              "  </tbody>\n",
              "</table>\n",
              "<p>5 rows × 25 columns</p>\n",
              "</div>"
            ],
            "text/plain": [
              "  Report Number Local Case Number                Agency Name  \\\n",
              "0   MCP2686006F         230031339   Montgomery County Police   \n",
              "1   MCP3230004G         230031335   Montgomery County Police   \n",
              "2   MCP12600013         230031067   Montgomery County Police   \n",
              "3    DD55750030         230031365  Rockville Police Departme   \n",
              "4   MCP3010008B         230034141   Montgomery County Police   \n",
              "\n",
              "        ACRS Report Type     Crash Date/Time Hit/Run            Route Type  \\\n",
              "0  Property Damage Crash 2023-06-30 22:55:00      No                   NaN   \n",
              "1  Property Damage Crash 2023-06-30 20:00:00      No                County   \n",
              "2           Injury Crash 2023-06-29 11:53:00      No      Maryland (State)   \n",
              "3  Property Damage Crash 2023-07-01 01:48:00     Yes          Municipality   \n",
              "4  Property Damage Crash 2023-07-01 12:52:00      No  Other Public Roadway   \n",
              "\n",
              "   Mile Point Lane Direction  Lane Number  ...           Collision Type  \\\n",
              "0         NaN            NaN            0  ...           SINGLE VEHICLE   \n",
              "1        1.42          North            1  ...  STRAIGHT MOVEMENT ANGLE   \n",
              "2       11.26          North            1  ...           SINGLE VEHICLE   \n",
              "3        0.07          North            1  ...                    OTHER   \n",
              "4        0.00           West            1  ...        SAME DIR REAR END   \n",
              "\n",
              "  Weather Surface Condition           Light Traffic Control   Latitude  \\\n",
              "0   CLEAR               NaN  DARK NO LIGHTS     NO CONTROLS  39.244280   \n",
              "1   CLEAR               DRY        DAYLIGHT  TRAFFIC SIGNAL  39.092024   \n",
              "2   CLEAR               DRY        DAYLIGHT       STOP SIGN  39.277424   \n",
              "3  CLOUDY               DRY  DARK LIGHTS ON             NaN  39.074974   \n",
              "4   CLEAR               DRY        DAYLIGHT             NaN  39.026492   \n",
              "\n",
              "   Longitude At Fault  Crash Date Crash Time  \n",
              "0 -77.335827   DRIVER  2023-06-30   22:55:00  \n",
              "1 -77.070570   DRIVER  2023-06-30   20:00:00  \n",
              "2 -77.324644   DRIVER  2023-06-29   11:53:00  \n",
              "3 -77.113130  UNKNOWN  2023-07-01   01:48:00  \n",
              "4 -77.148288   DRIVER  2023-07-01   12:52:00  \n",
              "\n",
              "[5 rows x 25 columns]"
            ]
          },
          "execution_count": 11,
          "metadata": {},
          "output_type": "execute_result"
        }
      ],
      "source": [
        "filtered_df[\"Crash Date/Time\"] = pd.to_datetime(filtered_df[\"Crash Date/Time\"])\n",
        "\n",
        "filtered_df.loc[:,'Crash Date'] = filtered_df['Crash Date/Time'].dt.date\n",
        "filtered_df.loc[:,'Crash Time'] = filtered_df['Crash Date/Time'].dt.time\n",
        "\n",
        "filtered_df.head()"
      ]
    },
    {
      "cell_type": "code",
      "execution_count": null,
      "metadata": {
        "id": "KaDX2lq44Jjo"
      },
      "outputs": [],
      "source": [
        "hit_run_mode = filtered_df['Hit/Run'].mode()[0]\n",
        "filtered_df['Hit/Run'] = filtered_df['Hit/Run'].fillna(hit_run_mode)\n",
        "na_hit = filtered_df[filtered_df['Hit/Run'].isna()]\n",
        "na_hit.head()"
      ]
    },
    {
      "cell_type": "code",
      "execution_count": null,
      "metadata": {
        "id": "THjTo0laGxlg"
      },
      "outputs": [],
      "source": [
        "filtered_df['Route Type'] = filtered_df['Route Type'].fillna('Unknown')\n",
        "filtered_df['Route Type'].value_counts()"
      ]
    },
    {
      "cell_type": "code",
      "execution_count": null,
      "metadata": {
        "id": "GEAPwU_bJLN5"
      },
      "outputs": [],
      "source": [
        "mile_point_median = filtered_df['Mile Point'].median()\n",
        "print(\"The median for Mile Point's data is: \" + str(mile_point_median))\n",
        "filtered_df['Mile Point'] = filtered_df['Mile Point'].fillna(mile_point_median)\n",
        "filtered_df.head()"
      ]
    },
    {
      "cell_type": "code",
      "execution_count": null,
      "metadata": {
        "id": "n6O4TWA6J4SC"
      },
      "outputs": [],
      "source": [
        "for i in ['Lane Direction', 'Road Name', 'Cross-Street Name', 'Route Type', 'Direction', 'Surface Condition']:\n",
        "  filtered_df[i] = filtered_df[i].fillna('Unknown')\n",
        "\n",
        "filtered_df.head()"
      ]
    },
    {
      "cell_type": "markdown",
      "metadata": {
        "id": "4CJmGpLlJ43_"
      },
      "source": [
        "Since \"Lane Direction\" indicates the direction of the lane in which the incident occurred, I recognize it as a significant piece of information that can affect the understanding of each crash's context. However, without a clear way to deduce the missing directions from other data (unless there's a discernible pattern or correlation with other variables), my safest approach would be to impute these missing values with a placeholder value such as \"Unknown\". This method acknowledges the missing data without making assumptions that could introduce bias into my analysis."
      ]
    },
    {
      "cell_type": "code",
      "execution_count": null,
      "metadata": {
        "id": "lvgPXKssQSzg"
      },
      "outputs": [],
      "source": [
        "import numpy as np\n",
        "traffic_control_mapping = filtered_df.groupby('Road Name')['Traffic Control'].agg(lambda x: x.mode()[0] if not x.mode().empty else np.nan).to_dict()\n",
        "\n",
        "def impute_traffic_control(row):\n",
        "    if pd.isna(row['Traffic Control']) and row['Road Name'] in traffic_control_mapping:\n",
        "        return traffic_control_mapping[row['Road Name']]\n",
        "    else:\n",
        "        return row['Traffic Control']\n",
        "\n",
        "filtered_df['Traffic Control'] = filtered_df.apply(impute_traffic_control, axis=1)\n",
        "\n",
        "filtered_df['Traffic Control'] = filtered_df['Traffic Control'].fillna('Unknown')\n",
        "\n",
        "filtered_df.head()"
      ]
    },
    {
      "cell_type": "code",
      "execution_count": null,
      "metadata": {
        "id": "z9dwsn7RSewk"
      },
      "outputs": [],
      "source": [
        "def impute_light_condition(row):\n",
        "    if pd.isna(row['Light']):\n",
        "        crash_time = row['Crash Time']\n",
        "\n",
        "        daylight_start = datetime.time(6, 0)\n",
        "        daylight_end = datetime.time(18, 0)\n",
        "        dusk_end = datetime.time(19, 0)\n",
        "        dawn_start = datetime.time(5, 0)\n",
        "\n",
        "        if daylight_start <= crash_time <= daylight_end:\n",
        "            return 'DAYLIGHT'\n",
        "        elif daylight_end < crash_time <= dusk_end:\n",
        "            return 'DUSK'\n",
        "        elif dawn_start <= crash_time < daylight_start:\n",
        "            return 'DAWN'\n",
        "        else:\n",
        "\n",
        "            return 'DARK -- UNKNOWN LIGHTING'\n",
        "\n",
        "    else:\n",
        "        return row['Light']\n",
        "\n",
        "\n",
        "if not isinstance(filtered_df['Crash Time'].iloc[0], datetime.time):\n",
        "    filtered_df['Crash Time'] = pd.to_datetime(filtered_df['Crash Time'], format='%H:%M:%S').dt.time\n",
        "\n",
        "filtered_df['Light'] = filtered_df.apply(impute_light_condition, axis=1)\n",
        "filtered_df.head(n=10)"
      ]
    },
    {
      "cell_type": "markdown",
      "metadata": {},
      "source": [
        "This code first checks if the \"Light\" column is missing a value for a given row. If it is, it then determines the light condition based on the \"Crash Time\" compared to predefined time ranges that represent daylight, dusk, and dawn. For times outside of these ranges, it defaults to \"DARK -- UNKNOWN LIGHTING\" to reflect a conservative approach during nighttime hours. This method helps to fill in missing data with reasoned assumptions while minimizing potential biases that could arise from more arbitrary imputations."
      ]
    },
    {
      "cell_type": "code",
      "execution_count": null,
      "metadata": {
        "id": "IfVTMMpwm1PP"
      },
      "outputs": [],
      "source": [
        "weather_mode = filtered_df['Weather'].mode()[0]\n",
        "filtered_df['Weather'] = filtered_df['Weather'].fillna(weather_mode)\n",
        "\n",
        "filtered_df.head()"
      ]
    },
    {
      "cell_type": "code",
      "execution_count": null,
      "metadata": {
        "id": "viJbGs-wTTg_"
      },
      "outputs": [],
      "source": [
        "collision_type_by_weather = filtered_df.groupby('Weather')['Collision Type'].apply(lambda x: x.mode()[0] if not x.mode().empty else np.nan).to_dict()\n",
        "\n",
        "def impute_collision_type(row):\n",
        "    if pd.isna(row['Collision Type']):\n",
        "        return collision_type_by_weather.get(row['Weather'], np.nan)\n",
        "    else:\n",
        "        return row['Collision Type']\n",
        "\n",
        "filtered_df['Collision Type'] = filtered_df.apply(impute_collision_type, axis=1)\n",
        "\n",
        "filtered_df['Collision Type'] = filtered_df['Collision Type'].fillna('Unknown')"
      ]
    },
    {
      "cell_type": "markdown",
      "metadata": {
        "id": "Gb_OW3EtU9xn"
      },
      "source": [
        "The code determines the most common \"Collision Type\" for each \"Weather\" condition by grouping the data by \"Weather\" and calculating the mode of \"Collision Type\" within each group. This mapping of \"Weather\" conditions to the most frequent \"Collision Type\" is stored as a dictionary. Next, the user defines a function that checks if \"Collision Type\" is missing for a row; if it is, the function attempts to impute the missing value using the \"Weather\"-to-\"Collision Type\" mapping. This function is applied to each row of the DataFrame. If \"Collision Type\" is missing and the row's \"Weather\" is found in the mapping, the missing \"Collision Type\" is imputed with the most common type associated with that weather condition. In the end, if still Collision types are missing then they are replaced with the \"Unkown\" tag to remove bias from the table."
      ]
    },
    {
      "cell_type": "code",
      "execution_count": null,
      "metadata": {
        "id": "G7bW4zNLVguB"
      },
      "outputs": [],
      "source": [
        "null_counts_corrected = filtered_df.isnull().sum()\n",
        "print(null_counts_corrected)\n",
        "print(\"No Cases with NULL values left! -> Data is somewhat cleansed :)\")"
      ]
    },
    {
      "cell_type": "markdown",
      "metadata": {
        "id": "HsGKElPJnCkj"
      },
      "source": [
        "--------------------------------------------------------------------------------"
      ]
    },
    {
      "cell_type": "markdown",
      "metadata": {
        "id": "4U5aa8gIm7Xu"
      },
      "source": [
        "# **Data Exploration and Summary Statistics**\n",
        "\n",
        "This stage, often referred to as the Exploratory Analysis and Visualization phase of the data lifecycle, is where we dive deep into the dataset to uncover trends, test hypotheses, and draw insights. By utilizing statistical analysis and visual tools, we aim to validate our hypotheses and inform decision-making processes.\n",
        "\n",
        "### Hypothesis Testing:\n",
        "We have formulated several hypotheses to guide our analysis and ensure it addresses specific research questions about traffic incidents in Montgomery County. Here's how we are approaching each hypothesis:\n",
        "\n",
        "1. **Light Conditions and Hit/Run Incidents:**\n",
        "   - **Null Hypothesis (H0)**: There is no significant difference in the proportion of hit/run incidents between daylight and dark conditions.\n",
        "   - **Alternative Hypothesis (H1)**: The proportion of hit/run incidents differs significantly between daylight and dark conditions.\n",
        "   - **Analysis Approach**: We will use a Z-test for two proportions, as it is suitable for large sample sizes. This test will help us compare the rates of hit/run incidents under different lighting conditions.\n",
        "\n",
        "2. **Weather Conditions and Crash Incidents:**\n",
        "   - **Null Hypothesis (H0)**: There is no significant difference in the number of crash incidents during clear versus adverse weather conditions.\n",
        "   - **Alternative Hypothesis (H1)**: There is a significant difference in the number of crash incidents between clear and adverse weather conditions.\n",
        "   - **Analysis Approach**: Depending on data categorization and distribution, we might use a chi-square test for categorical data or a t-test for continuous data to compare crash incident rates across different weather conditions.\n",
        "\n",
        "3. **Driver Substance Abuse vs Hit/Run:**\n",
        "   - **Null Hypothesis (H0)**: There is no significant difference in the proportion of hit/run incidents between drivers with and without substance abuse.\n",
        "   - **Alternative Hypothesis (H1)**: The proportion of hit/run incidents is significantly higher among drivers who have abused substances.\n",
        "   - **Analysis Approach**: A chi-square test is used to determine if there's a significant association between substance abuse and hit-and-run incidents, focusing on the difference in proportions of such incidents between drivers who have and have not abused substances.\n",
        "\n",
        "### Data Visualization:\n",
        "In addition to hypothesis testing, we are employing various data visualization techniques to illustrate and explore potential trends within the dataset. This involves:\n",
        "\n",
        "- **Plotting Key Trends**: We use graphs such as bar charts, line graphs, and scatter plots to visually represent the data, making it easier to identify patterns or anomalies.\n",
        "- **Frequency Analysis**: By analyzing the frequency of specific types of incidents, such as hit/run or specific collision types, we can identify which scenarios occur most frequently and may require additional focus or preventive measures.\n",
        "\n",
        "### Statistical Analysis:\n",
        "We perform detailed statistical analyses to provide a robust foundation for our findings. This includes:\n",
        "- **Descriptive Statistics**: To summarize the central tendencies and dispersion in our data.\n",
        "- **Inferential Statistics**: To draw conclusions about the larger population from our sample data, specifically testing our hypotheses under different conditions.\n",
        "\n",
        "By the end of this phase, we aim to have a clear understanding of the factors that influence traffic incidents in Montgomery County, guided by data-driven insights and rigorous statistical validation. This approach not only helps in affirming or refuting our initial hypotheses but also aids in identifying areas where traffic safety can be improved."
      ]
    },
    {
      "cell_type": "markdown",
      "metadata": {
        "id": "gaRnUNQFlaBe"
      },
      "source": [
        "## **1.   Hypothesis: Light(Headlights) Conditions and Hit/Run Incidents**"
      ]
    },
    {
      "cell_type": "markdown",
      "metadata": {},
      "source": [
        "*Null Hypothesis (H0): The proportion of hit/run incidents is the same during daylight and dark conditions.*\n",
        "\n",
        "*Alternative Hypothesis (H1): The proportion of hit/run incidents during daylight is different from that during dark conditions.*\n",
        "\n",
        "*Test to Use: A Z-test for two proportions would be appropriate if you have a large sample size, which is likely given that this is traffic incident data. This test will compare the proportion of hit/run incidents in daylight vs. dark conditions.*"
      ]
    },
    {
      "cell_type": "code",
      "execution_count": null,
      "metadata": {
        "colab": {
          "base_uri": "https://localhost:8080/"
        },
        "id": "ILx4d0TOlkF_",
        "outputId": "094fddf3-7524-4c41-e998-87bb227f1e72"
      },
      "outputs": [],
      "source": [
        "crash_data = filtered_df.copy()\n",
        "crash_data.loc[:, 'Hit_Run_Binary'] = (crash_data['Hit/Run'] == 'Yes').astype(int)\n",
        "\n",
        "dark_condition_values = ['DARK LIGHTS ON', 'DARK NO LIGHTS', 'DUSK', 'DAWN', 'DARK -- UNKNOWN LIGHTING']\n",
        "\n",
        "daylight_hitrun_count = crash_data.loc[crash_data['Light'] == 'DAYLIGHT', 'Hit_Run_Binary'].sum()\n",
        "dark_hitrun_count = crash_data.loc[crash_data['Light'].isin(dark_condition_values), 'Hit_Run_Binary'].sum()\n",
        "\n",
        "daylight_count = (crash_data['Light'] == 'DAYLIGHT').sum()\n",
        "dark_count = crash_data['Light'].isin(dark_condition_values).sum()\n",
        "\n",
        "if daylight_count > 0 and dark_count > 0:\n",
        "    counts = np.array([daylight_hitrun_count, dark_hitrun_count])\n",
        "    nobs = np.array([daylight_count, dark_count])\n",
        "    stat, pval = proportions_ztest(counts, nobs)\n",
        "else:\n",
        "    stat, pval = None, None\n",
        "\n",
        "print(f\"Daylight Hit/Run Count: {daylight_hitrun_count}\")\n",
        "print(f\"Dark Hit/Run Count: {dark_hitrun_count}\")\n",
        "print(f\"Total Incidents in Daylight Conditions: {daylight_count}\")\n",
        "print(f\"Total Incidents in Dark Conditions: {dark_count}\")\n",
        "print(f\"Z-test Statistic: {stat}\")\n",
        "print(f\"P-value: {pval}\")\n",
        "print(\"\\n\")\n",
        "alpha = 0.05\n",
        "if pval is not None:\n",
        "    if pval < alpha:\n",
        "        print(\"Reject the null hypothesis. The proportion of hit-and-run incidents is significantly different between daylight and dark conditions.\")\n",
        "    else:\n",
        "        print(\"Fail to reject the null hypothesis. There is not enough evidence to conclude that the proportion of hit-and-run incidents is significantly different between daylight and dark conditions.\")\n",
        "else:\n",
        "    print(\"Unable to perform the hypothesis test due to insufficient data.\")"
      ]
    },
    {
      "cell_type": "markdown",
      "metadata": {
        "id": "IBMFeWm55Y2g"
      },
      "source": [
        "### **Conclusion**"
      ]
    },
    {
      "cell_type": "markdown",
      "metadata": {
        "id": "96FYZNMAp4TJ"
      },
      "source": [
        "The negative Z-test statistic indicates that the proportion of hit/run incidents in daylight conditions is lower than in dark conditions, and the extremely small p-value suggests that the difference is statistically significant. This means we reject the null hypothesis and accept the alternative hypothesis that the proportion of hit/run incidents during daylight is different from that during dark conditions."
      ]
    },
    {
      "cell_type": "markdown",
      "metadata": {
        "id": "OtP-1AppqtZy"
      },
      "source": [
        "### **Graph**"
      ]
    },
    {
      "cell_type": "code",
      "execution_count": null,
      "metadata": {
        "colab": {
          "base_uri": "https://localhost:8080/",
          "height": 607
        },
        "id": "1qD2o0Udqs3a",
        "outputId": "de3a954d-bbbd-4c0b-b878-f8a6d6930ab8"
      },
      "outputs": [],
      "source": [
        "import matplotlib.pyplot as plt\n",
        "\n",
        "daylight_proportion = daylight_hitrun_count / daylight_count\n",
        "dark_proportion = dark_hitrun_count / dark_count\n",
        "\n",
        "conditions = ['Daylight', 'Dark']\n",
        "proportions = [daylight_proportion, dark_proportion]\n",
        "\n",
        "plt.figure(figsize=(8, 6))\n",
        "plt.bar(conditions, proportions, color = 'pink')\n",
        "plt.xlabel('Lighting Conditions')\n",
        "plt.ylabel('Proportion of Hit-and-Run Incidents')\n",
        "plt.title('Proportion of Hit-and-Run Incidents by Lighting Conditions')\n",
        "\n",
        "for i, proportion in enumerate(proportions):\n",
        "    plt.text(i, proportion, f'{proportion:.3f}', ha='center', va='bottom')\n",
        "\n",
        "plt.tight_layout()\n",
        "plt.show()"
      ]
    },
    {
      "cell_type": "markdown",
      "metadata": {
        "id": "64e6eR5jwC1m"
      },
      "source": [
        "## **2.   Hypothesis: Weather Conditions and Crash Incidents**"
      ]
    },
    {
      "cell_type": "markdown",
      "metadata": {
        "id": "FYdo1-RT3k3R"
      },
      "source": [
        "*Null Hypothesis (H0)*: There is no significant difference in the number of crash incidents during clear weather conditions and during adverse weather conditions (e.g., rain, snow, fog).\n",
        "\n",
        "⁠*Alternative Hypothesis (H1)*: There is a significant difference in the number of crash incidents between clear weather conditions and adverse weather conditions.\n",
        "\n",
        "*Test to Use*: We use a chi-square test if we categorize days as either having clear or adverse weather and count the number of crash incidents on such days. For continuous data (e.g., number of incidents), a t-test could be applicable, for the data distribution.\n",
        "\n"
      ]
    },
    {
      "cell_type": "code",
      "execution_count": null,
      "metadata": {
        "colab": {
          "base_uri": "https://localhost:8080/"
        },
        "id": "YBORZdggwHQe",
        "outputId": "52d34ca7-2851-49cb-b949-f9494cf2fce2"
      },
      "outputs": [],
      "source": [
        "def categorize_weather(condition):\n",
        "    if condition == 'CLEAR':\n",
        "        return 'clear'\n",
        "    elif condition in ['UNKNOWN', 'OTHER']:\n",
        "        return 'exclude'\n",
        "    else:\n",
        "        return 'adverse'\n",
        "\n",
        "\n",
        "filtered_df = filtered_df.copy()\n",
        "filtered_df['Weather_Condition'] = filtered_df['Weather'].apply(categorize_weather)\n",
        "\n",
        "\n",
        "df_test2 = filtered_df[filtered_df['Weather_Condition'] != 'exclude']\n",
        "incident_counts_clear = df_test2[df_test2['Weather_Condition'] == 'clear'].groupby('Crash Date/Time').size()\n",
        "incident_counts_adverse = df_test2[df_test2['Weather_Condition'] == 'adverse'].groupby('Crash Date/Time').size()\n",
        "\n",
        "print(f\"incident_counts_clear: {incident_counts_clear.count()}, incident_counts_adverse: {incident_counts_adverse.count()}\")\n",
        "print(\"\\n\")\n",
        "\n",
        "t_stat, p_val = ttest_ind(incident_counts_clear, incident_counts_adverse, equal_var=False, nan_policy='omit')\n",
        "\n",
        "\n",
        "print(f\"T-statistic: {t_stat}\")\n",
        "print(f\"P-value: {p_val}\")\n",
        "\n",
        "\n",
        "alpha = 0.05\n",
        "if p_val is not None:\n",
        "    if p_val < alpha:\n",
        "        print(\"Reject the null hypothesis. The proportion of hit-and-run incidents is significantly different between daylight and dark conditions.\")\n",
        "    else:\n",
        "        print(\"Fail to reject the null hypothesis. There is not enough evidence to conclude that the proportion of hit-and-run incidents is significantly different between daylight and dark conditions.\")\n",
        "else:\n",
        "    print(\"Unable to perform the hypothesis test due to insufficient data.\")\n",
        "\n",
        "print(\"\\n\")"
      ]
    },
    {
      "cell_type": "markdown",
      "metadata": {
        "id": "oMak71vW5SHd"
      },
      "source": [
        "### **Conclusion**"
      ]
    },
    {
      "cell_type": "markdown",
      "metadata": {
        "id": "XW-63aep2AOF"
      },
      "source": [
        "*  Based on the provided P-value of approximately 0.087, we would fail to reject the null hypothesis at a significance level of 0.05. This suggests that there is insufficient evidence to conclude a significant correlation between weather conditions and the number of crash incidents.\n",
        "\n",
        "*  However, it's important to note that the P-value is close to the significance threshold, indicating a marginal level of significance. Therefore, while we do not have strong evidence to support a correlation between weather conditions and crash incidents, further investigation with a larger dataset or alternative analytical approaches may be warranted to confirm this finding conclusively.\n",
        "\n",
        "\n",
        "\n"
      ]
    },
    {
      "cell_type": "markdown",
      "metadata": {
        "id": "lwb4gERD2X4t"
      },
      "source": [
        "### **Graph**"
      ]
    },
    {
      "cell_type": "code",
      "execution_count": null,
      "metadata": {
        "colab": {
          "base_uri": "https://localhost:8080/",
          "height": 472
        },
        "id": "qduBhT1w2iEj",
        "outputId": "dec5969f-2619-4eae-e234-a9d61fb8d842"
      },
      "outputs": [],
      "source": [
        "incident_counts = df_test2['Weather_Condition'].value_counts()\n",
        "sns.barplot(x=incident_counts.index, y=incident_counts.values, color = 'yellow')\n",
        "plt.title('Number of Crash Incidents by Weather Condition')\n",
        "plt.ylabel('Number of Incidents')\n",
        "plt.xlabel('Weather Condition')\n",
        "plt.show()"
      ]
    },
    {
      "cell_type": "markdown",
      "metadata": {
        "id": "_6n3P8Fp3NlK"
      },
      "source": [
        "## **3.   Hypothesis: Driver Substance Abuse vs Hit/Run**"
      ]
    },
    {
      "cell_type": "markdown",
      "metadata": {
        "id": "QZ46250b3h29"
      },
      "source": [
        "⁠*Null Hypothesis (H0)*: There is no significant difference in the proportion of hit/run incidents between drivers with and without substance abuse.\n",
        "\n",
        "*Alternative Hypothesis (H1)*: The proportion of hit/run incidents is significantly higher among drivers who have abused substances.\n",
        "\n",
        "⁠*Test to Use*: A chi-square test is used to determine if there's a significant association between substance abuse and hit-and-run incidents, focusing on the difference in proportions of such incidents between drivers who have and have not abused substances."
      ]
    },
    {
      "cell_type": "code",
      "execution_count": 1,
      "metadata": {
        "colab": {
          "base_uri": "https://localhost:8080/"
        },
        "id": "sMdfPMKu5NOF",
        "outputId": "f597809f-b00c-4ade-d679-120f75de4f40"
      },
      "outputs": [
        {
          "ename": "NameError",
          "evalue": "name 'pd' is not defined",
          "output_type": "error",
          "traceback": [
            "\u001b[0;31m---------------------------------------------------------------------------\u001b[0m",
            "\u001b[0;31mNameError\u001b[0m                                 Traceback (most recent call last)",
            "Cell \u001b[0;32mIn[1], line 2\u001b[0m\n\u001b[1;32m      1\u001b[0m \u001b[38;5;66;03m# Load and prepare the dataset\u001b[39;00m\n\u001b[0;32m----> 2\u001b[0m df \u001b[38;5;241m=\u001b[39m \u001b[43mpd\u001b[49m\u001b[38;5;241m.\u001b[39mread_csv(\u001b[38;5;124m\"\u001b[39m\u001b[38;5;124mcrash.csv\u001b[39m\u001b[38;5;124m\"\u001b[39m)\n\u001b[1;32m      4\u001b[0m \u001b[38;5;66;03m# Simplify and encode 'Driver Substance Abuse'\u001b[39;00m\n\u001b[1;32m      5\u001b[0m df[\u001b[38;5;124m\"\u001b[39m\u001b[38;5;124mDriver Substance Abuse\u001b[39m\u001b[38;5;124m\"\u001b[39m] \u001b[38;5;241m=\u001b[39m df[\u001b[38;5;124m\"\u001b[39m\u001b[38;5;124mDriver Substance Abuse\u001b[39m\u001b[38;5;124m\"\u001b[39m]\u001b[38;5;241m.\u001b[39mapply(\n\u001b[1;32m      6\u001b[0m     \u001b[38;5;28;01mlambda\u001b[39;00m x: (\n\u001b[1;32m      7\u001b[0m         \u001b[38;5;124m\"\u001b[39m\u001b[38;5;124mNo\u001b[39m\u001b[38;5;124m\"\u001b[39m\n\u001b[0;32m   (...)\u001b[0m\n\u001b[1;32m     10\u001b[0m     )\n\u001b[1;32m     11\u001b[0m )\n",
            "\u001b[0;31mNameError\u001b[0m: name 'pd' is not defined"
          ]
        }
      ],
      "source": [
        "# Load and prepare the dataset\n",
        "df = pd.read_csv(\"crash.csv\")\n",
        "\n",
        "# Simplify and encode 'Driver Substance Abuse'\n",
        "df[\"Driver Substance Abuse\"] = df[\"Driver Substance Abuse\"].apply(\n",
        "    lambda x: (\n",
        "        \"No\"\n",
        "        if pd.isna(x) or \"NONE DETECTED\" in x or \"UNKNOWN\" in x or \"N/A\" in x\n",
        "        else \"Yes\"\n",
        "    )\n",
        ")\n",
        "le = LabelEncoder()\n",
        "df[\"Driver Substance Abuse\"] = le.fit_transform(df[\"Driver Substance Abuse\"])\n",
        "\n",
        "# Impute missing values\n",
        "imputer = KNNImputer(n_neighbors=5)\n",
        "df[\"Driver Substance Abuse\"] = imputer.fit_transform(df[[\"Driver Substance Abuse\"]])\n",
        "\n",
        "# Convert back to original categories\n",
        "df[\"Driver Substance Abuse\"] = le.inverse_transform(\n",
        "    df[\"Driver Substance Abuse\"].round().astype(int)\n",
        ")\n",
        "\n",
        "\n",
        "# Chi-square test and print results\n",
        "def perform_chi_square(column):\n",
        "    contingency_table = pd.crosstab(df[column], df[\"Hit/Run\"])\n",
        "    chi2, p, dof, ex = chi2_contingency(contingency_table)\n",
        "    print(f\"Chi-square Statistic for {column}: {chi2}, P-value: {p}\")\n",
        "    if p < 0.05:\n",
        "        print(f\"The null hypothesis can be rejected for {column}. There is a statistically significant association between {column} and hit-and-run incidents.\")\n",
        "    else:\n",
        "        print(f\"The null hypothesis cannot be rejected for {column}. There is no statistically significant association between {column} and hit-and-run incidents.\")\n",
        "\n",
        "perform_chi_square(\"Driver Substance Abuse\")"
      ]
    },
    {
      "cell_type": "markdown",
      "metadata": {},
      "source": [
        "### **Conclusion**"
      ]
    },
    {
      "cell_type": "markdown",
      "metadata": {},
      "source": [
        "- TODO"
      ]
    },
    {
      "cell_type": "markdown",
      "metadata": {
        "id": "Qokwbvh6B6hY"
      },
      "source": [
        "### **Graph**"
      ]
    },
    {
      "cell_type": "code",
      "execution_count": null,
      "metadata": {
        "colab": {
          "base_uri": "https://localhost:8080/",
          "height": 472
        },
        "id": "9Ao9vDTVB9H0",
        "outputId": "28ccef6d-9524-4837-b31a-b7615ec094de"
      },
      "outputs": [],
      "source": [
        "substance_hit_run = pd.crosstab(df[\"Driver Substance Abuse\"], df[\"Hit/Run\"])\n",
        "substance_hit_run.columns = [\"No Hit/Run\", \"Hit/Run\"]\n",
        "\n",
        "# Calculate proportions\n",
        "substance_hit_run[\"Proportion Hit/Run\"] = substance_hit_run[\"Hit/Run\"] / (\n",
        "    substance_hit_run[\"No Hit/Run\"] + substance_hit_run[\"Hit/Run\"]\n",
        ")\n",
        "\n",
        "# Plotting the proportion of hit-and-runs\n",
        "plt.figure(figsize=(10, 6))\n",
        "sns.barplot(x=substance_hit_run.index, y=substance_hit_run[\"Proportion Hit/Run\"])\n",
        "plt.title(\"Proportion of Hit and Run Incidents by Driver Substance Abuse\")\n",
        "plt.xlabel(\"Driver Substance Abuse\")\n",
        "plt.ylabel(\"Proportion of Hit/Run Incidents\")\n",
        "plt.xticks(\n",
        "    ticks=[0, 1], labels=[\"No\", \"Yes\"]\n",
        ")  # Assuming 0 is 'No', 1 is 'Yes' after encoding\n",
        "plt.show()"
      ]
    },
    {
      "cell_type": "markdown",
      "metadata": {},
      "source": [
        "--------------------------------------------------------------------------------"
      ]
    },
    {
      "cell_type": "markdown",
      "metadata": {},
      "source": [
        "# **PREDICTION MODEL THAT PREDICTS HIT/RUN**"
      ]
    },
    {
      "cell_type": "markdown",
      "metadata": {},
      "source": [
        "## Preliminary data cleaning"
      ]
    },
    {
      "cell_type": "code",
      "execution_count": null,
      "metadata": {},
      "outputs": [],
      "source": [
        "# Convert 'Crash Date/Time' to datetime and extract relevant parts\n",
        "df[\"Crash Date/Time\"] = pd.to_datetime(df[\"Crash Date/Time\"])\n",
        "df['Hour'] = df['Crash Date/Time'].dt.hour\n",
        "df['Month'] = df['Crash Date/Time'].dt.month\n",
        "df['DayOfWeek'] = df['Crash Date/Time'].dt.weekday"
      ]
    },
    {
      "cell_type": "markdown",
      "metadata": {},
      "source": [
        "## Data Cleaning"
      ]
    },
    {
      "cell_type": "code",
      "execution_count": null,
      "metadata": {},
      "outputs": [],
      "source": [
        "# Assume these columns are relevant based on the description\n",
        "relevant_columns = ['Weather', 'Light', 'Traffic Control', 'Road Condition', 'Surface Condition', 'Hour', 'Month', 'DayOfWeek', 'Hit/Run','Driver Substance Abuse']\n",
        "\n",
        "# Filter the dataset\n",
        "df = df[relevant_columns]\n",
        "\n",
        "# Handle missing values\n",
        "imputer = SimpleImputer(strategy='most_frequent')\n",
        "df = pd.DataFrame(imputer.fit_transform(df), columns=df.columns)\n",
        "\n",
        "# Encode categorical variables\n",
        "categorical_features = ['Weather', 'Light', 'Traffic Control', 'Road Condition', 'Surface Condition', 'DayOfWeek', 'Month', 'Driver Substance Abuse']\n",
        "df = pd.get_dummies(df, columns=categorical_features)"
      ]
    },
    {
      "cell_type": "markdown",
      "metadata": {},
      "source": [
        "--------------------------------------------------------------------------------"
      ]
    },
    {
      "cell_type": "markdown",
      "metadata": {},
      "source": [
        "## **ML Algorithm Design/Development**"
      ]
    },
    {
      "cell_type": "markdown",
      "metadata": {},
      "source": [
        "### Prepare the target and features for the model"
      ]
    },
    {
      "cell_type": "code",
      "execution_count": null,
      "metadata": {},
      "outputs": [],
      "source": [
        "df['Hit/Run'] = (df['Hit/Run'] == 'Yes').astype(int)\n",
        "y = df['Hit/Run']\n",
        "X = df.drop('Hit/Run', axis=1)\n",
        "\n",
        "# Split the data into training and testing sets\n",
        "X_train, X_test, y_train, y_test = train_test_split(X, y, test_size=0.2, shuffle=True)"
      ]
    },
    {
      "cell_type": "markdown",
      "metadata": {},
      "source": [
        "## **ML Algorithm Training and Test Data Analysis**\n",
        "\n",
        "In this phase of the data lifecycle, we transition from exploratory analysis and hypothesis testing to applying machine learning techniques. The objective is to design and develop predictive models that can efficiently analyze patterns and predict outcomes based on historical data. For this project, we are particularly focused on evaluating the impact of driver substance abuse on hit-and-run incidents.\n",
        "\n",
        "### Data Preparation for ML:\n",
        "To prepare our dataset for machine learning analysis, we convert the 'Hit/Run' column into a binary format where 'Yes' is coded as 1 and 'No' as 0. This allows us to treat the problem as a binary classification task. We then define our target variable `y` as the 'Hit/Run' column and the feature matrix `X` as all other columns.\n",
        "\n",
        "### Model Training and Evaluation:\n",
        "We use a `RandomForestClassifier` for our predictive model due to its robustness and effectiveness in handling both numerical and categorical data. The steps include:\n",
        "- **Data Splitting**: The dataset is divided into training and testing sets, with 20% of the data reserved for testing. This split ensures that we have a separate dataset to evaluate our model's performance objectively.\n",
        "- **Model Training**: We train the RandomForest model on the training data. This process involves building multiple decision trees and aggregating their predictions to improve accuracy and control overfitting.\n",
        "- **Model Prediction**: After training, the model predicts the 'Hit/Run' outcome on the testing set.\n",
        "\n",
        "### Performance Metrics:\n",
        "To evaluate the model's performance, we use several metrics:\n",
        "- **Accuracy**: This gives us the proportion of total predictions that were correct.\n",
        "- **Classification Report**: This includes precision, recall, and F1-score for each class. These metrics provide deeper insights into the model's performance, especially useful in imbalanced datasets where accuracy alone might be misleading.\n",
        "\n",
        "### Insights and Adjustments:\n",
        "Based on the initial outcomes, we may tweak the model parameters, try different algorithms, or revisit the feature selection process to optimize performance. Continuous refinement is key to developing a robust model that accurately predicts outcomes and provides valuable insights.\n",
        "\n",
        "This comprehensive approach ensures that our machine learning model is not only predictive but also interpretable, providing clear insights into how substance abuse may influence hit-and-run behaviors."
      ]
    },
    {
      "cell_type": "markdown",
      "metadata": {},
      "source": [
        "### Train a RandomForest Classifier"
      ]
    },
    {
      "cell_type": "code",
      "execution_count": 72,
      "metadata": {},
      "outputs": [
        {
          "data": {
            "text/html": [
              "<style>#sk-container-id-3 {\n",
              "  /* Definition of color scheme common for light and dark mode */\n",
              "  --sklearn-color-text: black;\n",
              "  --sklearn-color-line: gray;\n",
              "  /* Definition of color scheme for unfitted estimators */\n",
              "  --sklearn-color-unfitted-level-0: #fff5e6;\n",
              "  --sklearn-color-unfitted-level-1: #f6e4d2;\n",
              "  --sklearn-color-unfitted-level-2: #ffe0b3;\n",
              "  --sklearn-color-unfitted-level-3: chocolate;\n",
              "  /* Definition of color scheme for fitted estimators */\n",
              "  --sklearn-color-fitted-level-0: #f0f8ff;\n",
              "  --sklearn-color-fitted-level-1: #d4ebff;\n",
              "  --sklearn-color-fitted-level-2: #b3dbfd;\n",
              "  --sklearn-color-fitted-level-3: cornflowerblue;\n",
              "\n",
              "  /* Specific color for light theme */\n",
              "  --sklearn-color-text-on-default-background: var(--sg-text-color, var(--theme-code-foreground, var(--jp-content-font-color1, black)));\n",
              "  --sklearn-color-background: var(--sg-background-color, var(--theme-background, var(--jp-layout-color0, white)));\n",
              "  --sklearn-color-border-box: var(--sg-text-color, var(--theme-code-foreground, var(--jp-content-font-color1, black)));\n",
              "  --sklearn-color-icon: #696969;\n",
              "\n",
              "  @media (prefers-color-scheme: dark) {\n",
              "    /* Redefinition of color scheme for dark theme */\n",
              "    --sklearn-color-text-on-default-background: var(--sg-text-color, var(--theme-code-foreground, var(--jp-content-font-color1, white)));\n",
              "    --sklearn-color-background: var(--sg-background-color, var(--theme-background, var(--jp-layout-color0, #111)));\n",
              "    --sklearn-color-border-box: var(--sg-text-color, var(--theme-code-foreground, var(--jp-content-font-color1, white)));\n",
              "    --sklearn-color-icon: #878787;\n",
              "  }\n",
              "}\n",
              "\n",
              "#sk-container-id-3 {\n",
              "  color: var(--sklearn-color-text);\n",
              "}\n",
              "\n",
              "#sk-container-id-3 pre {\n",
              "  padding: 0;\n",
              "}\n",
              "\n",
              "#sk-container-id-3 input.sk-hidden--visually {\n",
              "  border: 0;\n",
              "  clip: rect(1px 1px 1px 1px);\n",
              "  clip: rect(1px, 1px, 1px, 1px);\n",
              "  height: 1px;\n",
              "  margin: -1px;\n",
              "  overflow: hidden;\n",
              "  padding: 0;\n",
              "  position: absolute;\n",
              "  width: 1px;\n",
              "}\n",
              "\n",
              "#sk-container-id-3 div.sk-dashed-wrapped {\n",
              "  border: 1px dashed var(--sklearn-color-line);\n",
              "  margin: 0 0.4em 0.5em 0.4em;\n",
              "  box-sizing: border-box;\n",
              "  padding-bottom: 0.4em;\n",
              "  background-color: var(--sklearn-color-background);\n",
              "}\n",
              "\n",
              "#sk-container-id-3 div.sk-container {\n",
              "  /* jupyter's `normalize.less` sets `[hidden] { display: none; }`\n",
              "     but bootstrap.min.css set `[hidden] { display: none !important; }`\n",
              "     so we also need the `!important` here to be able to override the\n",
              "     default hidden behavior on the sphinx rendered scikit-learn.org.\n",
              "     See: https://github.com/scikit-learn/scikit-learn/issues/21755 */\n",
              "  display: inline-block !important;\n",
              "  position: relative;\n",
              "}\n",
              "\n",
              "#sk-container-id-3 div.sk-text-repr-fallback {\n",
              "  display: none;\n",
              "}\n",
              "\n",
              "div.sk-parallel-item,\n",
              "div.sk-serial,\n",
              "div.sk-item {\n",
              "  /* draw centered vertical line to link estimators */\n",
              "  background-image: linear-gradient(var(--sklearn-color-text-on-default-background), var(--sklearn-color-text-on-default-background));\n",
              "  background-size: 2px 100%;\n",
              "  background-repeat: no-repeat;\n",
              "  background-position: center center;\n",
              "}\n",
              "\n",
              "/* Parallel-specific style estimator block */\n",
              "\n",
              "#sk-container-id-3 div.sk-parallel-item::after {\n",
              "  content: \"\";\n",
              "  width: 100%;\n",
              "  border-bottom: 2px solid var(--sklearn-color-text-on-default-background);\n",
              "  flex-grow: 1;\n",
              "}\n",
              "\n",
              "#sk-container-id-3 div.sk-parallel {\n",
              "  display: flex;\n",
              "  align-items: stretch;\n",
              "  justify-content: center;\n",
              "  background-color: var(--sklearn-color-background);\n",
              "  position: relative;\n",
              "}\n",
              "\n",
              "#sk-container-id-3 div.sk-parallel-item {\n",
              "  display: flex;\n",
              "  flex-direction: column;\n",
              "}\n",
              "\n",
              "#sk-container-id-3 div.sk-parallel-item:first-child::after {\n",
              "  align-self: flex-end;\n",
              "  width: 50%;\n",
              "}\n",
              "\n",
              "#sk-container-id-3 div.sk-parallel-item:last-child::after {\n",
              "  align-self: flex-start;\n",
              "  width: 50%;\n",
              "}\n",
              "\n",
              "#sk-container-id-3 div.sk-parallel-item:only-child::after {\n",
              "  width: 0;\n",
              "}\n",
              "\n",
              "/* Serial-specific style estimator block */\n",
              "\n",
              "#sk-container-id-3 div.sk-serial {\n",
              "  display: flex;\n",
              "  flex-direction: column;\n",
              "  align-items: center;\n",
              "  background-color: var(--sklearn-color-background);\n",
              "  padding-right: 1em;\n",
              "  padding-left: 1em;\n",
              "}\n",
              "\n",
              "\n",
              "/* Toggleable style: style used for estimator/Pipeline/ColumnTransformer box that is\n",
              "clickable and can be expanded/collapsed.\n",
              "- Pipeline and ColumnTransformer use this feature and define the default style\n",
              "- Estimators will overwrite some part of the style using the `sk-estimator` class\n",
              "*/\n",
              "\n",
              "/* Pipeline and ColumnTransformer style (default) */\n",
              "\n",
              "#sk-container-id-3 div.sk-toggleable {\n",
              "  /* Default theme specific background. It is overwritten whether we have a\n",
              "  specific estimator or a Pipeline/ColumnTransformer */\n",
              "  background-color: var(--sklearn-color-background);\n",
              "}\n",
              "\n",
              "/* Toggleable label */\n",
              "#sk-container-id-3 label.sk-toggleable__label {\n",
              "  cursor: pointer;\n",
              "  display: block;\n",
              "  width: 100%;\n",
              "  margin-bottom: 0;\n",
              "  padding: 0.5em;\n",
              "  box-sizing: border-box;\n",
              "  text-align: center;\n",
              "}\n",
              "\n",
              "#sk-container-id-3 label.sk-toggleable__label-arrow:before {\n",
              "  /* Arrow on the left of the label */\n",
              "  content: \"▸\";\n",
              "  float: left;\n",
              "  margin-right: 0.25em;\n",
              "  color: var(--sklearn-color-icon);\n",
              "}\n",
              "\n",
              "#sk-container-id-3 label.sk-toggleable__label-arrow:hover:before {\n",
              "  color: var(--sklearn-color-text);\n",
              "}\n",
              "\n",
              "/* Toggleable content - dropdown */\n",
              "\n",
              "#sk-container-id-3 div.sk-toggleable__content {\n",
              "  max-height: 0;\n",
              "  max-width: 0;\n",
              "  overflow: hidden;\n",
              "  text-align: left;\n",
              "  /* unfitted */\n",
              "  background-color: var(--sklearn-color-unfitted-level-0);\n",
              "}\n",
              "\n",
              "#sk-container-id-3 div.sk-toggleable__content.fitted {\n",
              "  /* fitted */\n",
              "  background-color: var(--sklearn-color-fitted-level-0);\n",
              "}\n",
              "\n",
              "#sk-container-id-3 div.sk-toggleable__content pre {\n",
              "  margin: 0.2em;\n",
              "  border-radius: 0.25em;\n",
              "  color: var(--sklearn-color-text);\n",
              "  /* unfitted */\n",
              "  background-color: var(--sklearn-color-unfitted-level-0);\n",
              "}\n",
              "\n",
              "#sk-container-id-3 div.sk-toggleable__content.fitted pre {\n",
              "  /* unfitted */\n",
              "  background-color: var(--sklearn-color-fitted-level-0);\n",
              "}\n",
              "\n",
              "#sk-container-id-3 input.sk-toggleable__control:checked~div.sk-toggleable__content {\n",
              "  /* Expand drop-down */\n",
              "  max-height: 200px;\n",
              "  max-width: 100%;\n",
              "  overflow: auto;\n",
              "}\n",
              "\n",
              "#sk-container-id-3 input.sk-toggleable__control:checked~label.sk-toggleable__label-arrow:before {\n",
              "  content: \"▾\";\n",
              "}\n",
              "\n",
              "/* Pipeline/ColumnTransformer-specific style */\n",
              "\n",
              "#sk-container-id-3 div.sk-label input.sk-toggleable__control:checked~label.sk-toggleable__label {\n",
              "  color: var(--sklearn-color-text);\n",
              "  background-color: var(--sklearn-color-unfitted-level-2);\n",
              "}\n",
              "\n",
              "#sk-container-id-3 div.sk-label.fitted input.sk-toggleable__control:checked~label.sk-toggleable__label {\n",
              "  background-color: var(--sklearn-color-fitted-level-2);\n",
              "}\n",
              "\n",
              "/* Estimator-specific style */\n",
              "\n",
              "/* Colorize estimator box */\n",
              "#sk-container-id-3 div.sk-estimator input.sk-toggleable__control:checked~label.sk-toggleable__label {\n",
              "  /* unfitted */\n",
              "  background-color: var(--sklearn-color-unfitted-level-2);\n",
              "}\n",
              "\n",
              "#sk-container-id-3 div.sk-estimator.fitted input.sk-toggleable__control:checked~label.sk-toggleable__label {\n",
              "  /* fitted */\n",
              "  background-color: var(--sklearn-color-fitted-level-2);\n",
              "}\n",
              "\n",
              "#sk-container-id-3 div.sk-label label.sk-toggleable__label,\n",
              "#sk-container-id-3 div.sk-label label {\n",
              "  /* The background is the default theme color */\n",
              "  color: var(--sklearn-color-text-on-default-background);\n",
              "}\n",
              "\n",
              "/* On hover, darken the color of the background */\n",
              "#sk-container-id-3 div.sk-label:hover label.sk-toggleable__label {\n",
              "  color: var(--sklearn-color-text);\n",
              "  background-color: var(--sklearn-color-unfitted-level-2);\n",
              "}\n",
              "\n",
              "/* Label box, darken color on hover, fitted */\n",
              "#sk-container-id-3 div.sk-label.fitted:hover label.sk-toggleable__label.fitted {\n",
              "  color: var(--sklearn-color-text);\n",
              "  background-color: var(--sklearn-color-fitted-level-2);\n",
              "}\n",
              "\n",
              "/* Estimator label */\n",
              "\n",
              "#sk-container-id-3 div.sk-label label {\n",
              "  font-family: monospace;\n",
              "  font-weight: bold;\n",
              "  display: inline-block;\n",
              "  line-height: 1.2em;\n",
              "}\n",
              "\n",
              "#sk-container-id-3 div.sk-label-container {\n",
              "  text-align: center;\n",
              "}\n",
              "\n",
              "/* Estimator-specific */\n",
              "#sk-container-id-3 div.sk-estimator {\n",
              "  font-family: monospace;\n",
              "  border: 1px dotted var(--sklearn-color-border-box);\n",
              "  border-radius: 0.25em;\n",
              "  box-sizing: border-box;\n",
              "  margin-bottom: 0.5em;\n",
              "  /* unfitted */\n",
              "  background-color: var(--sklearn-color-unfitted-level-0);\n",
              "}\n",
              "\n",
              "#sk-container-id-3 div.sk-estimator.fitted {\n",
              "  /* fitted */\n",
              "  background-color: var(--sklearn-color-fitted-level-0);\n",
              "}\n",
              "\n",
              "/* on hover */\n",
              "#sk-container-id-3 div.sk-estimator:hover {\n",
              "  /* unfitted */\n",
              "  background-color: var(--sklearn-color-unfitted-level-2);\n",
              "}\n",
              "\n",
              "#sk-container-id-3 div.sk-estimator.fitted:hover {\n",
              "  /* fitted */\n",
              "  background-color: var(--sklearn-color-fitted-level-2);\n",
              "}\n",
              "\n",
              "/* Specification for estimator info (e.g. \"i\" and \"?\") */\n",
              "\n",
              "/* Common style for \"i\" and \"?\" */\n",
              "\n",
              ".sk-estimator-doc-link,\n",
              "a:link.sk-estimator-doc-link,\n",
              "a:visited.sk-estimator-doc-link {\n",
              "  float: right;\n",
              "  font-size: smaller;\n",
              "  line-height: 1em;\n",
              "  font-family: monospace;\n",
              "  background-color: var(--sklearn-color-background);\n",
              "  border-radius: 1em;\n",
              "  height: 1em;\n",
              "  width: 1em;\n",
              "  text-decoration: none !important;\n",
              "  margin-left: 1ex;\n",
              "  /* unfitted */\n",
              "  border: var(--sklearn-color-unfitted-level-1) 1pt solid;\n",
              "  color: var(--sklearn-color-unfitted-level-1);\n",
              "}\n",
              "\n",
              ".sk-estimator-doc-link.fitted,\n",
              "a:link.sk-estimator-doc-link.fitted,\n",
              "a:visited.sk-estimator-doc-link.fitted {\n",
              "  /* fitted */\n",
              "  border: var(--sklearn-color-fitted-level-1) 1pt solid;\n",
              "  color: var(--sklearn-color-fitted-level-1);\n",
              "}\n",
              "\n",
              "/* On hover */\n",
              "div.sk-estimator:hover .sk-estimator-doc-link:hover,\n",
              ".sk-estimator-doc-link:hover,\n",
              "div.sk-label-container:hover .sk-estimator-doc-link:hover,\n",
              ".sk-estimator-doc-link:hover {\n",
              "  /* unfitted */\n",
              "  background-color: var(--sklearn-color-unfitted-level-3);\n",
              "  color: var(--sklearn-color-background);\n",
              "  text-decoration: none;\n",
              "}\n",
              "\n",
              "div.sk-estimator.fitted:hover .sk-estimator-doc-link.fitted:hover,\n",
              ".sk-estimator-doc-link.fitted:hover,\n",
              "div.sk-label-container:hover .sk-estimator-doc-link.fitted:hover,\n",
              ".sk-estimator-doc-link.fitted:hover {\n",
              "  /* fitted */\n",
              "  background-color: var(--sklearn-color-fitted-level-3);\n",
              "  color: var(--sklearn-color-background);\n",
              "  text-decoration: none;\n",
              "}\n",
              "\n",
              "/* Span, style for the box shown on hovering the info icon */\n",
              ".sk-estimator-doc-link span {\n",
              "  display: none;\n",
              "  z-index: 9999;\n",
              "  position: relative;\n",
              "  font-weight: normal;\n",
              "  right: .2ex;\n",
              "  padding: .5ex;\n",
              "  margin: .5ex;\n",
              "  width: min-content;\n",
              "  min-width: 20ex;\n",
              "  max-width: 50ex;\n",
              "  color: var(--sklearn-color-text);\n",
              "  box-shadow: 2pt 2pt 4pt #999;\n",
              "  /* unfitted */\n",
              "  background: var(--sklearn-color-unfitted-level-0);\n",
              "  border: .5pt solid var(--sklearn-color-unfitted-level-3);\n",
              "}\n",
              "\n",
              ".sk-estimator-doc-link.fitted span {\n",
              "  /* fitted */\n",
              "  background: var(--sklearn-color-fitted-level-0);\n",
              "  border: var(--sklearn-color-fitted-level-3);\n",
              "}\n",
              "\n",
              ".sk-estimator-doc-link:hover span {\n",
              "  display: block;\n",
              "}\n",
              "\n",
              "/* \"?\"-specific style due to the `<a>` HTML tag */\n",
              "\n",
              "#sk-container-id-3 a.estimator_doc_link {\n",
              "  float: right;\n",
              "  font-size: 1rem;\n",
              "  line-height: 1em;\n",
              "  font-family: monospace;\n",
              "  background-color: var(--sklearn-color-background);\n",
              "  border-radius: 1rem;\n",
              "  height: 1rem;\n",
              "  width: 1rem;\n",
              "  text-decoration: none;\n",
              "  /* unfitted */\n",
              "  color: var(--sklearn-color-unfitted-level-1);\n",
              "  border: var(--sklearn-color-unfitted-level-1) 1pt solid;\n",
              "}\n",
              "\n",
              "#sk-container-id-3 a.estimator_doc_link.fitted {\n",
              "  /* fitted */\n",
              "  border: var(--sklearn-color-fitted-level-1) 1pt solid;\n",
              "  color: var(--sklearn-color-fitted-level-1);\n",
              "}\n",
              "\n",
              "/* On hover */\n",
              "#sk-container-id-3 a.estimator_doc_link:hover {\n",
              "  /* unfitted */\n",
              "  background-color: var(--sklearn-color-unfitted-level-3);\n",
              "  color: var(--sklearn-color-background);\n",
              "  text-decoration: none;\n",
              "}\n",
              "\n",
              "#sk-container-id-3 a.estimator_doc_link.fitted:hover {\n",
              "  /* fitted */\n",
              "  background-color: var(--sklearn-color-fitted-level-3);\n",
              "}\n",
              "</style><div id=\"sk-container-id-3\" class=\"sk-top-container\"><div class=\"sk-text-repr-fallback\"><pre>RandomForestClassifier(random_state=42)</pre><b>In a Jupyter environment, please rerun this cell to show the HTML representation or trust the notebook. <br />On GitHub, the HTML representation is unable to render, please try loading this page with nbviewer.org.</b></div><div class=\"sk-container\" hidden><div class=\"sk-item\"><div class=\"sk-estimator fitted sk-toggleable\"><input class=\"sk-toggleable__control sk-hidden--visually\" id=\"sk-estimator-id-3\" type=\"checkbox\" checked><label for=\"sk-estimator-id-3\" class=\"sk-toggleable__label fitted sk-toggleable__label-arrow fitted\">&nbsp;&nbsp;RandomForestClassifier<a class=\"sk-estimator-doc-link fitted\" rel=\"noreferrer\" target=\"_blank\" href=\"https://scikit-learn.org/1.4/modules/generated/sklearn.ensemble.RandomForestClassifier.html\">?<span>Documentation for RandomForestClassifier</span></a><span class=\"sk-estimator-doc-link fitted\">i<span>Fitted</span></span></label><div class=\"sk-toggleable__content fitted\"><pre>RandomForestClassifier(random_state=42)</pre></div> </div></div></div></div>"
            ],
            "text/plain": [
              "RandomForestClassifier(random_state=42)"
            ]
          },
          "execution_count": 72,
          "metadata": {},
          "output_type": "execute_result"
        }
      ],
      "source": [
        "model = RandomForestClassifier(n_estimators=100, random_state=42)\n",
        "model.fit(X_train, y_train)"
      ]
    },
    {
      "cell_type": "markdown",
      "metadata": {},
      "source": [
        "### Predict on the testing set"
      ]
    },
    {
      "cell_type": "code",
      "execution_count": 73,
      "metadata": {},
      "outputs": [],
      "source": [
        "y_pred = model.predict(X_test)"
      ]
    },
    {
      "cell_type": "markdown",
      "metadata": {},
      "source": [
        " # **Machine Learning Analysis**"
      ]
    },
    {
      "cell_type": "markdown",
      "metadata": {},
      "source": [
        "## Evaluate the model"
      ]
    },
    {
      "cell_type": "code",
      "execution_count": 74,
      "metadata": {},
      "outputs": [
        {
          "name": "stdout",
          "output_type": "stream",
          "text": [
            "Accuracy: 0.8004309460291401\n",
            "Classification Report:\n",
            "               precision    recall  f1-score   support\n",
            "\n",
            "           0       0.83      0.96      0.89     15958\n",
            "           1       0.34      0.10      0.16      3534\n",
            "\n",
            "    accuracy                           0.80     19492\n",
            "   macro avg       0.58      0.53      0.52     19492\n",
            "weighted avg       0.74      0.80      0.75     19492\n",
            "\n"
          ]
        }
      ],
      "source": [
        "print(\"Accuracy:\", accuracy_score(y_test, y_pred))\n",
        "print(\"Classification Report:\\n\", classification_report(y_test, y_pred))\n"
      ]
    },
    {
      "cell_type": "markdown",
      "metadata": {},
      "source": [
        "### Accuracy:\n",
        "- **Accuracy of 80%** suggests that the model is generally effective in predicting whether an incident will be a hit-and-run. However, this high accuracy might be somewhat misleading due to the imbalanced nature of your dataset (where non-hit-and-run incidents significantly outnumber hit-and-run cases).\n",
        "\n",
        "### Precision, Recall, and F1-Score:\n",
        "- **Precision for 'Not Hit/Run' (Class 0)** is quite high at 0.83, indicating that when the model predicts an incident is not a hit-and-run, it is correct 83% of the time.\n",
        "- **Recall for 'Not Hit/Run'** is also high at 0.96, which means the model successfully identifies 96% of all non-hit-and-run incidents.\n",
        "- **F1-Score for 'Not Hit/Run'** is 0.89, reflecting a good balance between precision and recall for this class.\n",
        "\n",
        "For the 'Hit/Run' class (Class 1), which is of particular interest:\n",
        "- **Precision** is low at 0.34, suggesting that only 34% of the incidents the model labels as hit-and-run are actually so. This indicates a high false positive rate.\n",
        "- **Recall** is even lower at 0.10, which means the model identifies only 10% of all actual hit-and-run incidents. This is a significant issue as it means the model fails to detect 90% of hit-and-run cases.\n",
        "- **F1-Score** of 0.15 is very low, indicating poor performance of the model on the hit-and-run cases due to low precision and recall.\n",
        "\n",
        "--------------------------------------------------------------------------------"
      ]
    },
    {
      "cell_type": "markdown",
      "metadata": {},
      "source": [
        " # **Post Result Analysis**\n",
        "\n",
        " \n",
        "### Interpretation and What can be done better:\n",
        "1. **Imbalanced Classes**: The imbalance in the dataset likely contributes significantly to the skewed performance favoring the non-hit-and-run class. Techniques such as SMOTE (Synthetic Minority Over-sampling Technique), adjusting class weights, or more targeted data collection could help balance the dataset and potentially improve model performance on the minority class.\n",
        "\n",
        "2. **Feature Engineering**: There might be an opportunity to improve model performance by revisiting feature selection and engineering. Including more relevant features, or transforming existing features might uncover more significant patterns in the data relevant to hit-and-run incidents.\n",
        "\n",
        "3. **Model Experimentation**: Exploring different algorithms that might be more sensitive to imbalanced data could be beneficial. Algorithms like Gradient Boosting or even deep learning models might capture complex patterns better, though they require careful tuning to avoid overfitting.\n",
        "\n",
        "4. **Threshold Tuning**: Adjusting the decision threshold for classifying hit-and-run incidents could help manage the trade-off between precision and recall, especially for the hit-and-run class.\n",
        "\n",
        "5. **Performance Metrics**: Given the class imbalance, metrics like ROC-AUC might provide a more comprehensive view of model performance across different decision thresholds.\n",
        "\n",
        "In summary, while the model performs well in identifying non-hit-and-run incidents, it struggles significantly with hit-and-run cases, which are critical to predict accurately for practical applications. Addressing the imbalance in the dataset and refining the model could lead to more reliable predictions."
      ]
    },
    {
      "cell_type": "markdown",
      "metadata": {},
      "source": [
        "### **Visualization**\n"
      ]
    },
    {
      "cell_type": "markdown",
      "metadata": {},
      "source": [
        "### Confusion Matrix\n",
        "A confusion matrix is a table often used to describe the performance of a classification model on a set of test data for which the true values are known. It allows you to visually assess the number of correct and incorrect predictions made by the model."
      ]
    },
    {
      "cell_type": "code",
      "execution_count": 69,
      "metadata": {},
      "outputs": [
        {
          "data": {
            "image/png": "[encoded data removed]",
            "text/plain": [
              "<Figure size 640x480 with 2 Axes>"
            ]
          },
          "metadata": {},
          "output_type": "display_data"
        }
      ],
      "source": [
        "from sklearn.metrics import confusion_matrix\n",
        "import seaborn as sns\n",
        "import matplotlib.pyplot as plt\n",
        "\n",
        "# Assuming y_test and y_pred are defined as your actual and predicted data respectively\n",
        "cm = confusion_matrix(y_test, y_pred)\n",
        "sns.heatmap(cm, annot=True, fmt=\"d\", cmap='Blues')\n",
        "plt.xlabel('Predicted')\n",
        "plt.ylabel('Actual')\n",
        "plt.title('Confusion Matrix')\n",
        "plt.show()\n"
      ]
    },
    {
      "cell_type": "markdown",
      "metadata": {},
      "source": [
        "### Breakdown of the Confusion Matrix:\n",
        "- **True Negatives (TN):** 15,240 - The number of correctly predicted negative cases (the model correctly predicted the non-hit-and-run class).\n",
        "- **False Positives (FP):** 718 - The number of negative cases incorrectly classified as positive (the model incorrectly labeled these cases as hit-and-run).\n",
        "- **False Negatives (FN):** 3,172 - The number of positive cases incorrectly classified as negative (the model missed these hit-and-run cases).\n",
        "- **True Positives (TP):** 362 - The number of correctly predicted positive cases (the model correctly identified these as hit-and-run).\n",
        "\n",
        "### Key Metrics:\n",
        "- **Accuracy:** \\( \\frac{TP + TN}{TP + TN + FP + FN} \\) = \\( \\frac{15,240 + 362}{15,240 + 362 + 718 + 3,172} \\) ≈ 0.800 (or 80%)\n",
        "- **Precision (Positive Predictive Value):** \\( \\frac{TP}{TP + FP} \\) = \\( \\frac{362}{362 + 718} \\) ≈ 0.335\n",
        "- **Recall (Sensitivity or True Positive Rate):** \\( \\frac{TP}{TP + FN} \\) = \\( \\frac{362}{362 + 3,172} \\) ≈ 0.102\n",
        "- **F1 Score:** \\( 2 \\times \\frac{Precision \\times Recall}{Precision + Recall} \\) ≈ \\( 2 \\times \\frac{0.335 \\times 0.102}{0.335 + 0.102} \\) ≈ 0.154\n",
        "\n",
        "### Analysis:\n",
        "- **Accuracy:** The model has an accuracy of 80%, which seems reasonably high. However, this number is somewhat deceptive given the significant imbalance between the classes in your dataset (many more non-hit-and-run incidents than hit-and-run).\n",
        "- **Precision:** At approximately 33.5%, the precision is relatively low, indicating that when the model predicts an incident as a hit-and-run, it is correct only about one-third of the time.\n",
        "- **Recall:** The recall is particularly low at about 10.2%, showing that the model identifies only about 10% of all actual hit-and-run incidents. This suggests that many hit-and-run incidents are being missed by the model (high number of false negatives).\n",
        "- **F1 Score:** The F1 score, which balances precision and recall, is quite low (0.154), indicating poor performance of the model, especially in terms of identifying the positive class (hit-and-run incidents).\n",
        "\n",
        "### Implications:\n",
        "The confusion matrix reveals that while the model is quite good at identifying non-hit-and-run incidents, it performs poorly in detecting actual hit-and-run incidents, which are likely more critical to predict accurately. This could be due to a variety of factors including class imbalance, insufficiently discriminative features, or suboptimal model parameters.\n",
        "\n",
        "### Recommendations:\n",
        "1. **Addressing Imbalance:** Techniques like SMOTE, adjusting class weights during training, or targeted data collection could help improve model performance, especially recall.\n",
        "2. **Feature Engineering:** Enhancing the set of features used by the model could provide better differentiation between classes.\n",
        "3. **Model Adjustment:** Trying different models or tuning existing model parameters might yield improvements. Considering models that are robust to imbalanced data could also be beneficial.\n",
        "4. **Threshold Tuning:** Adjusting the decision threshold could help improve precision and recall based on what is more critical for your needs (either reducing false positives or reducing false negatives).\n",
        "\n",
        "This analysis indicates that improvements are necessary, particularly in terms of enhancing the model’s ability to detect hit-and-run incidents, which is crucial for practical applications."
      ]
    },
    {
      "cell_type": "markdown",
      "metadata": {},
      "source": [
        "### ROC Curve\n",
        "The Receiver Operating Characteristic (ROC) curve is another useful tool, particularly for binary classification problems. It plots the true positive rate against the false positive rate at various threshold settings, giving you insight into the trade-offs between sensitivity (recall) and specificity."
      ]
    },
    {
      "cell_type": "code",
      "execution_count": 70,
      "metadata": {},
      "outputs": [
        {
          "data": {
            "image/png": "[encoded data removed]",
            "text/plain": [
              "<Figure size 640x480 with 1 Axes>"
            ]
          },
          "metadata": {},
          "output_type": "display_data"
        }
      ],
      "source": [
        "from sklearn.metrics import roc_curve, auc\n",
        "import matplotlib.pyplot as plt\n",
        "\n",
        "# Calculate the ROC curve points\n",
        "fpr, tpr, thresholds = roc_curve(y_test, model.predict_proba(X_test)[:, 1])\n",
        "\n",
        "# Calculate the area under the ROC curve\n",
        "roc_auc = auc(fpr, tpr)\n",
        "\n",
        "# Plot\n",
        "plt.figure()\n",
        "plt.plot(fpr, tpr, color='darkorange', lw=2, label='ROC curve (area = %0.2f)' % roc_auc)\n",
        "plt.plot([0, 1], [0, 1], color='navy', lw=2, linestyle='--')\n",
        "plt.xlim([0.0, 1.0])\n",
        "plt.ylim([0.0, 1.05])\n",
        "plt.xlabel('False Positive Rate')\n",
        "plt.ylabel('True Positive Rate')\n",
        "plt.title('Receiver Operating Characteristic')\n",
        "plt.legend(loc=\"lower right\")\n",
        "plt.show()\n"
      ]
    },
    {
      "cell_type": "markdown",
      "metadata": {},
      "source": [
        "### Overview of the Curve\n",
        "The ROC curve is a graphical plot that illustrates the diagnostic ability of a binary classifier system as its discrimination threshold is varied. It plots the True Positive Rate (TPR, or recall) against the False Positive Rate (FPR) at various threshold settings.\n",
        "\n",
        "### Key Observations:\n",
        "- **Curve Shape and Position**: The ROC curve of your model lies above the diagonal line (which represents a random classifier) but is not close to the top-left corner of the plot. The closer the curve comes to the top-left corner, the higher the overall accuracy of the test.\n",
        "- **Area Under the Curve (AUC) of 0.59**: This value indicates that your model has a 59% chance of distinguishing between the positive class and negative class. An AUC of 0.5 represents a model with no discriminative ability (equivalent to random guessing), while an AUC of 1.0 represents a perfect model. An AUC of 0.59 suggests that the model has limited discriminative ability, just slightly better than random guessing.\n",
        "\n",
        "### Implications:\n",
        "- **Moderate Discrimination**: The ROC AUC score implies that your model has a moderate ability to distinguish between the classes. However, it's relatively close to non-discriminatory (AUC = 0.5), indicating that there might be significant room for improvement.\n",
        "- **Sensitivity vs. Specificity Balance**: The ROC curve suggests that any increase in sensitivity (ability to detect true positives) will likely be accompanied by a decrease in specificity (increase in false positives). This might be an issue if the cost of a false positive is high in your application context.\n",
        "\n",
        "### Recommendations:\n",
        "1. **Feature Engineering**: Revisiting and possibly enhancing your feature set could provide the model with more informative cues to improve classification accuracy.\n",
        "2. **Model Tuning**: Adjusting model parameters or trying different machine learning algorithms might help. Sometimes, more complex models like Gradient Boosting or deep learning models might capture complex patterns better.\n",
        "3. **Data Quality and Quantity**: Ensuring the quality of your data and possibly increasing the dataset size could help improve model performance. More data, especially more examples of the minority class, could provide a more balanced dataset for training.\n",
        "4. **Advanced Techniques**: Consider using techniques such as ensemble methods, which combine the predictions of multiple models to improve accuracy.\n",
        "5. **Cost-sensitive Learning**: If false positives and false negatives have different costs, consider using cost-sensitive learning which incorporates these costs in the model training process.\n",
        "\n",
        "### Conclusion:\n",
        "The ROC curve analysis highlights that while your model does perform better than random guessing, its ability to discriminate between classes effectively is still marginal. Employing a combination of improved modeling techniques, better feature engineering, and perhaps more balanced data could lead to a more effective predictive model."
      ]
    },
    {
      "cell_type": "markdown",
      "metadata": {},
      "source": [
        "### Precision-Recall Curve\n",
        "This is particularly useful when the classes are highly imbalanced. It focuses on the relationship between precision and recall for different threshold values."
      ]
    },
    {
      "cell_type": "code",
      "execution_count": 71,
      "metadata": {},
      "outputs": [
        {
          "data": {
            "image/png": "[encoded data removed]",
            "text/plain": [
              "<Figure size 640x480 with 1 Axes>"
            ]
          },
          "metadata": {},
          "output_type": "display_data"
        }
      ],
      "source": [
        "from sklearn.metrics import precision_recall_curve, average_precision_score\n",
        "import matplotlib.pyplot as plt\n",
        "\n",
        "# Calculate precision-recall curve\n",
        "precision, recall, thresholds = precision_recall_curve(y_test, model.predict_proba(X_test)[:, 1])\n",
        "\n",
        "# Calculate average precision\n",
        "ap = average_precision_score(y_test, model.predict_proba(X_test)[:, 1])\n",
        "\n",
        "# Plot\n",
        "plt.figure()\n",
        "plt.plot(recall, precision, label='Precision-Recall curve (area = %0.2f)' % ap)\n",
        "plt.xlabel('Recall')\n",
        "plt.ylabel('Precision')\n",
        "plt.title('Precision-Recall Curve')\n",
        "plt.legend(loc=\"lower left\")\n",
        "plt.show()\n"
      ]
    },
    {
      "cell_type": "markdown",
      "metadata": {},
      "source": [
        "\n",
        "### Overview of the Curve\n",
        "The Precision-Recall curve shows how the precision (the accuracy of the positive predictions) varies with the recall (the ability of the model to find all the relevant cases) for different threshold settings. The area under the curve (AUC) for your model is 0.26, which provides a quantitative measure of the model's performance.\n",
        "\n",
        "### Key Observations:\n",
        "1. **Initial High Precision**: The curve starts at a high precision near 1.0 but with almost zero recall. This indicates that if you set a very high threshold for classifying a prediction as positive (hit-and-run), the few predictions made are very likely to be correct, but the model misses almost all actual positive cases.\n",
        "\n",
        "2. **Sharp Drop in Precision**: As recall increases (i.e., as the model starts classifying more samples as hit-and-run), the precision drops sharply. This rapid fall in precision at low levels of recall suggests that the model starts to make more false positive errors very quickly as it attempts to capture more true positives.\n",
        "\n",
        "3. **Low Overall Precision-Recall AUC**: The area under the curve (AUC) of 0.26 is relatively low, which generally indicates poor overall performance of the model in terms of both precision and recall. A high-performing model would ideally have a curve that stays high on the Y-axis (precision) as recall increases, reflecting a larger AUC closer to 1.\n",
        "\n",
        "### Implications:\n",
        "- **Model's Limitations**: The curve suggests that the model struggles to balance precision and recall — it either misses a significant number of positive cases or makes too many false positive errors. This might be due to insufficient or non-informative features, class imbalance, or other model-specific limitations.\n",
        "- **Potential Overfitting**: The initial high precision at very low recall levels could also indicate overfitting to a small number of cases where the model is overly confident, but which do not generalize well across the dataset.\n",
        "\n",
        "### Recommendations:\n",
        "1. **Improving Feature Selection**: Investigate and possibly enhance the feature set. Adding more relevant features or creating new feature interactions might help the model make more accurate classifications.\n",
        "2. **Rebalancing Dataset**: Given the likely class imbalance, consider techniques such as SMOTE for oversampling the minority class or adjusting class weights in the model training process.\n",
        "3. **Experiment with Different Models**: Some models might be more effective at handling imbalanced data. Trying out models like Gradient Boosting or even deep learning architectures might yield better results.\n",
        "4. **Adjust Decision Thresholds**: Experiment with different decision thresholds to find a better balance between precision and recall. This could involve setting a lower threshold if increasing recall is a priority, albeit at the cost of reducing precision.\n",
        "5. **Cross-validation**: Implement robust cross-validation techniques to ensure the model’s performance is consistent across different subsets of your data and to prevent overfitting.\n",
        "\n",
        "### Conclusion:\n",
        "The Precision-Recall curve serves as a crucial diagnostic tool, especially in scenarios with imbalanced classes. The analysis indicates that while the model can predict some positives very accurately (high initial precision), its ability to generalize well across the broader dataset needs improvement.\n"
      ]
    },
    {
      "cell_type": "markdown",
      "metadata": {},
      "source": [
        "--------------------------------------------------------------------------------"
      ]
    },
    {
      "cell_type": "markdown",
      "metadata": {},
      "source": [
        "### **Result**"
      ]
    },
    {
      "cell_type": "markdown",
      "metadata": {},
      "source": [
        "### **Conclusion**"
      ]
    }
  ],
  "metadata": {
    "colab": {
      "provenance": []
    },
    "kernelspec": {
      "display_name": "Python 3",
      "name": "python3"
    },
    "language_info": {
      "codemirror_mode": {
        "name": "ipython",
        "version": 3
      },
      "file_extension": ".py",
      "mimetype": "text/x-python",
      "name": "python",
      "nbconvert_exporter": "python",
      "pygments_lexer": "ipython3",
      "version": "3.11.5"
    }
  },
  "nbformat": 4,
  "nbformat_minor": 0
}
