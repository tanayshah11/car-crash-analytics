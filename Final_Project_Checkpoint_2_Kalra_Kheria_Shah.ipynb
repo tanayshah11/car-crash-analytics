{
  "cells": [
    {
      "cell_type": "markdown",
      "metadata": {
        "id": "pHfb-zNd9Hzd"
      },
      "source": [
        "# **Hypothesis Testing - Driver Substance Abuse v/s Hit/Run**"
      ]
    },
    {
      "cell_type": "code",
      "execution_count": 12,
      "metadata": {
        "colab": {
          "base_uri": "https://localhost:8080/"
        },
        "id": "xfWBghaA9G2s",
        "outputId": "f6434ac4-06d4-4202-8731-701cf803dd9d"
      },
      "outputs": [
        {
          "name": "stdout",
          "output_type": "stream",
          "text": [
            "Chi-square Statistic for Driver Substance Abuse: 81.65375509944661, P-value: 1.6214344512600915e-19\n",
            "The null hypothesis can be rejected for Driver Substance Abuse. There is a statistically significant association between Driver Substance Abuse and hit-and-run incidents.\n"
          ]
        }
      ],
      "source": [
        "import pandas as pd\n",
        "from sklearn.impute import KNNImputer\n",
        "from sklearn.preprocessing import LabelEncoder\n",
        "\n",
        "# Load the dataset\n",
        "df = pd.read_csv('crash.csv')\n",
        "\n",
        "# Function to simplify substance abuse descriptions\n",
        "def simplify_substance(description):\n",
        "    if pd.isna(description) or 'NONE DETECTED' in description or 'UNKNOWN' in description or 'N/A' in description:\n",
        "        return 'No'\n",
        "    else:\n",
        "        return 'Yes'\n",
        "\n",
        "# Apply simplification\n",
        "df['Driver Substance Abuse'] = df['Driver Substance Abuse'].apply(simplify_substance)\n",
        "\n",
        "\n",
        "# Encode categories for KNN imputation\n",
        "le = LabelEncoder()\n",
        "df['Driver Substance Abuse'] = le.fit_transform(df['Driver Substance Abuse'])\n",
        "\n",
        "# KNN Imputation\n",
        "imputer = KNNImputer(n_neighbors=5)\n",
        "df[['Driver Substance Abuse']] = imputer.fit_transform(df[['Driver Substance Abuse']])\n",
        "\n",
        "# Convert back to original categories\n",
        "df['Driver Substance Abuse'] = le.inverse_transform(df['Driver Substance Abuse'].round().astype(int))\n",
        "\n",
        "from scipy.stats import chi2_contingency\n",
        "\n",
        "# Assuming 'Hit/Run' has been properly encoded as 0 for 'No' and 1 for 'Yes'\n",
        "def perform_chi_square(column):\n",
        "    contingency_table = pd.crosstab(df[column], df['Hit/Run'])\n",
        "    chi2, p, dof, ex = chi2_contingency(contingency_table)\n",
        "    print(f\"Chi-square Statistic for {column}: {chi2}, P-value: {p}\")\n",
        "    if p < 0.05:\n",
        "        print(f\"The null hypothesis can be rejected for {column}. There is a statistically significant association between {column} and hit-and-run incidents.\")\n",
        "    else:\n",
        "        print(f\"The null hypothesis cannot be rejected for {column}. There is no statistically significant association between {column} and hit-and-run incidents.\")\n",
        "\n",
        "# Chi-square test for 'Driver Substance Abuse'\n",
        "perform_chi_square('Driver Substance Abuse')\n",
        "\n"
      ]
    },
    {
      "cell_type": "markdown",
      "metadata": {
        "id": "CWI3oG6m9SyY"
      },
      "source": [
        "# **PREDICTION MODEL THAT PREDICTS HIT/RUN**"
      ]
    },
    {
      "cell_type": "code",
      "execution_count": 13,
      "metadata": {
        "colab": {
          "base_uri": "https://localhost:8080/"
        },
        "id": "K7tKpz250Zh8",
        "outputId": "1be2a187-da89-4a4b-fb55-a9862ab7342a"
      },
      "outputs": [
        {
          "name": "stderr",
          "output_type": "stream",
          "text": [
            "<ipython-input-13-b0e781557b37>:14: UserWarning: Could not infer format, so each element will be parsed individually, falling back to `dateutil`. To ensure parsing is consistent and as-expected, please specify a format.\n",
            "  df['Crash Date/Time'] = pd.to_datetime(df['Crash Date/Time'])\n"
          ]
        },
        {
          "name": "stdout",
          "output_type": "stream",
          "text": [
            "Accuracy: 0.7993022778575826\n",
            "Classification Report:\n",
            "               precision    recall  f1-score   support\n",
            "\n",
            "           0       0.82      0.96      0.89     15876\n",
            "           1       0.35      0.10      0.15      3616\n",
            "\n",
            "    accuracy                           0.80     19492\n",
            "   macro avg       0.59      0.53      0.52     19492\n",
            "weighted avg       0.74      0.80      0.75     19492\n",
            "\n"
          ]
        }
      ],
      "source": [
        "import pandas as pd\n",
        "from sklearn.model_selection import train_test_split\n",
        "from sklearn.ensemble import RandomForestClassifier\n",
        "from sklearn.impute import SimpleImputer\n",
        "from sklearn.preprocessing import LabelEncoder, OneHotEncoder\n",
        "from sklearn.metrics import classification_report, accuracy_score\n",
        "import numpy as np\n",
        "\n",
        "# Load the dataset\n",
        "# df = pd.read_csv('crash.csv')\n",
        "\n",
        "# Preliminary data cleaning\n",
        "# Convert 'Crash Date/Time' to datetime and extract relevant parts\n",
        "df['Crash Date/Time'] = pd.to_datetime(df['Crash Date/Time'])\n",
        "df['Hour'] = df['Crash Date/Time'].dt.hour\n",
        "df['Month'] = df['Crash Date/Time'].dt.month\n",
        "df['DayOfWeek'] = df['Crash Date/Time'].dt.weekday\n",
        "\n",
        "# Assume these columns are relevant based on the description\n",
        "relevant_columns = ['Weather', 'Light', 'Traffic Control', 'Road Condition', 'Surface Condition', 'Hour', 'Month', 'DayOfWeek', 'Hit/Run','Driver Substance Abuse']\n",
        "\n",
        "# Filter the dataset\n",
        "df = df[relevant_columns]\n",
        "\n",
        "# Handle missing values\n",
        "imputer = SimpleImputer(strategy='most_frequent')\n",
        "df = pd.DataFrame(imputer.fit_transform(df), columns=df.columns)\n",
        "\n",
        "# Encode categorical variables\n",
        "categorical_features = ['Weather', 'Light', 'Traffic Control', 'Road Condition', 'Surface Condition', 'DayOfWeek', 'Month', 'Driver Substance Abuse']\n",
        "df = pd.get_dummies(df, columns=categorical_features)\n",
        "\n",
        "# Prepare the target and features for the model\n",
        "df['Hit/Run'] = (df['Hit/Run'] == 'Yes').astype(int)\n",
        "y = df['Hit/Run']\n",
        "X = df.drop('Hit/Run', axis=1)\n",
        "\n",
        "# Split the data into training and testing sets\n",
        "# random_state=42\n",
        "X_train, X_test, y_train, y_test = train_test_split(X, y, test_size=0.2, shuffle=True)\n",
        "\n",
        "# Train a RandomForest Classifier\n",
        "model = RandomForestClassifier(n_estimators=100, random_state=42)\n",
        "model.fit(X_train, y_train)\n",
        "\n",
        "# Predict on the testing set\n",
        "y_pred = model.predict(X_test)\n",
        "\n",
        "# Evaluate the model\n",
        "print(\"Accuracy:\", accuracy_score(y_test, y_pred))\n",
        "print(\"Classification Report:\\n\", classification_report(y_test, y_pred))\n"
      ]
    }
  ],
  "metadata": {
    "colab": {
      "provenance": []
    },
    "kernelspec": {
      "display_name": "Python 3",
      "name": "python3"
    },
    "language_info": {
      "name": "python"
    }
  },
  "nbformat": 4,
  "nbformat_minor": 0
}
